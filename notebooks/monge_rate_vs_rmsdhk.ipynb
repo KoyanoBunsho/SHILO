{
 "cells": [
  {
   "cell_type": "code",
   "execution_count": 16,
   "id": "7614ded0",
   "metadata": {},
   "outputs": [],
   "source": [
    "import pandas as pd\n",
    "import matplotlib.pyplot as plt\n",
    "import seaborn as sns\n",
    "import numpy as np\n",
    "from biopandas.pdb import PandasPdb\n",
    "from scipy.stats import pearsonr\n",
    "import seaborn as sns"
   ]
  },
  {
   "cell_type": "code",
   "execution_count": 2,
   "id": "5aeca42a",
   "metadata": {},
   "outputs": [],
   "source": [
    "plt.rcParams[\"font.family\"] = \"DejaVu Serif\" \n",
    "pd.set_option('display.precision', 6)"
   ]
  },
  {
   "cell_type": "code",
   "execution_count": 4,
   "id": "ecc06168",
   "metadata": {},
   "outputs": [],
   "source": [
    "ok_pdb = pd.read_csv(\"ok_pdb.csv\")\n",
    "small_monge = pd.read_csv(\"../src/monge_rate_shibuya.csv\")\n",
    "more_monge = pd.read_csv(\"../src/monge_rate_par.csv\")\n",
    "more_monge = more_monge[more_monge[\"p_pdb_id\"].isin(ok_pdb[\"p_pdb_id\"])].reset_index()\n",
    "dyndom_monge = pd.read_csv(\"../src/monge_rate_dyndom.csv\")"
   ]
  },
  {
   "cell_type": "code",
   "execution_count": 7,
   "id": "1e8b42aa",
   "metadata": {},
   "outputs": [
    {
     "data": {
      "image/png": "[encoded data removed]",
      "text/plain": [
       "<Figure size 1080x108 with 3 Axes>"
      ]
     },
     "metadata": {
      "needs_background": "light"
     },
     "output_type": "display_data"
    }
   ],
   "source": [
    "fig, axes = plt.subplots(nrows=1, ncols=3, figsize=(15, 1.5))\n",
    "small_monge[\"monge_rate_1\"].hist(ax=axes[0], bins=[0.4, 0.5, 0.6, 0.7, 0.8, 0.900, 1.00], color=\"Black\")\n",
    "axes[0].set_xlabel(\"Monge rate\")\n",
    "axes[0].set_yticks([0, 2, 4])\n",
    "axes[0].set_xlim(0.4, 1.0)\n",
    "axes[0].set_ylim(0, 5)\n",
    "axes[0].set_title(\"(a) Result of the Shibuya 2008 dataset\", loc=\"left\")\n",
    "more_monge[\"monge_rate_1\"].hist(ax=axes[1], bins=[0.4, 0.5, 0.6, 0.7, 0.8, 0.900, 1.00], color=\"Black\")\n",
    "axes[1].set_xlabel(\"Monge rate\")\n",
    "axes[1].set_xlim(0.4, 1.0)\n",
    "axes[1].set_ylim(0, 50)\n",
    "axes[1].set_title(\"(b) Result of the PAR 2020 dataset\", loc=\"left\")\n",
    "dyndom_monge[\"monge_rate_1\"].hist(ax=axes[2], bins=[0.4, 0.5, 0.6, 0.7, 0.8, 0.900, 1.00], color=\"Black\")\n",
    "axes[2].set_xlabel(\"Monge rate\")\n",
    "axes[2].set_xlim(0.4, 1.0)\n",
    "axes[2].set_ylim(0, 1250)\n",
    "axes[2].set_title(\"(c) Result of the DynDom 2024 dataset\", loc=\"left\")\n",
    "plt.savefig(\"figures/distribution_of_monge_rate.svg\", bbox_inches=\"tight\", format=\"svg\")"
   ]
  },
  {
   "cell_type": "code",
   "execution_count": 9,
   "id": "6f8068ac",
   "metadata": {},
   "outputs": [],
   "source": [
    "small_fast_rmsdhk_2 = pd.read_csv(\"../src/rmsdh_result/fast_rmsdh_hingek_cnt_2.csv\")\n",
    "small_rmsdhk_2 = pd.read_csv(\"../src/rmsdh_result/rmsdh_hingek_cnt_2.csv\")\n",
    "small_fast_rmsdhk_3 = pd.read_csv(\"../src/rmsdh_result/fast_rmsdh_hingek_cnt_3.csv\")\n",
    "small_rmsdhk_3 = pd.read_csv(\"../src/rmsdh_result/rmsdh_hingek_cnt_3.csv\")\n",
    "small_fast_rmsdhk_4 = pd.read_csv(\"../src/rmsdh_result/fast_rmsdh_hingek_cnt_4.csv\")\n",
    "small_rmsdhk_4 = pd.read_csv(\"../src/rmsdh_result/rmsdh_hingek_cnt_4.csv\")\n",
    "small_fast_rmsdhk_2_postpro = pd.read_csv(\"../src/rmsdh_result/fast_rmsdh_hingek_cnt_2_postpro.csv\")\n",
    "small_fast_rmsdhk_3_postpro = pd.read_csv(\"../src/rmsdh_result/fast_rmsdh_hingek_cnt_3_postpro.csv\")\n",
    "small_fast_rmsdhk_4_postpro = pd.read_csv(\"../src/rmsdh_result/fast_rmsdh_hingek_cnt_4_postpro.csv\")\n",
    "\n",
    "small_fast_rmsdhk_2_postpro_loop = pd.read_csv(\"../src/rmsdh_result/fast_rmsdh_hingek_cnt_2_postpro_loop.csv\")\n",
    "small_fast_rmsdhk_3_postpro_loop = pd.read_csv(\"../src/rmsdh_result/fast_rmsdh_hingek_cnt_3_postpro_loop.csv\")\n",
    "small_fast_rmsdhk_4_postpro_loop = pd.read_csv(\"../src/rmsdh_result/fast_rmsdh_hingek_cnt_4_postpro_loop.csv\")\n",
    "\n",
    "fast_rmsdhk_2 = pd.read_csv(\"../src/rmsdh_result/fast_rmsdhk_more_data_2.csv\")\n",
    "rmsdhk_2 = pd.read_csv(\"../src/rmsdh_result/rmsdhk_more_data_2.csv\")\n",
    "fast_rmsdhk_3 = pd.read_csv(\"../src/rmsdh_result/fast_rmsdhk_more_data_3.csv\")\n",
    "rmsdhk_3 = pd.read_csv(\"../src/rmsdh_result/rmsdhk_more_data_3.csv\")\n",
    "fast_rmsdhk_4 = pd.read_csv(\"../src/rmsdh_result/fast_rmsdhk_more_data_4.csv\")\n",
    "rmsdhk_4 = pd.read_csv(\"../src/rmsdh_result/rmsdhk_more_data_4.csv\")\n",
    "fast_rmsdhk_postpro_2 = pd.read_csv(\"../src/rmsdh_result/fast_rmsdhk_more_data_2_pospro.csv\")\n",
    "fast_rmsdhk_postpro_3 = pd.read_csv(\"../src/rmsdh_result/fast_rmsdhk_more_data_3_pospro.csv\")\n",
    "fast_rmsdhk_postpro_4 = pd.read_csv(\"../src/rmsdh_result/fast_rmsdhk_more_data_4_pospro.csv\")\n",
    "\n",
    "fast_rmsdhk_postpro_2_loop = pd.read_csv(\"../src/rmsdh_result/fast_rmsdhk_more_data_2_pospro_loop.csv\")\n",
    "fast_rmsdhk_postpro_3_loop = pd.read_csv(\"../src/rmsdh_result/fast_rmsdhk_more_data_3_pospro_loop.csv\")\n",
    "fast_rmsdhk_postpro_4_loop = pd.read_csv(\"../src/rmsdh_result/fast_rmsdhk_more_data_4_pospro_loop.csv\")\n",
    "\n",
    "lsp_2_shibuya = pd.read_csv(\"../src/rmsdh_result/ablation_study_2_paper.csv\")\n",
    "lsp_3_shibuya = pd.read_csv(\"../src/rmsdh_result/ablation_study_3_paper.csv\")\n",
    "lsp_4_shibuya = pd.read_csv(\"../src/rmsdh_result/ablation_study_4_paper.csv\")\n",
    "\n",
    "lsp_2_shibuya_loop = pd.read_csv(\"../src/rmsdh_result/ablation_study_loop2.csv\")\n",
    "lsp_3_shibuya_loop = pd.read_csv(\"../src/rmsdh_result/ablation_study_loop3.csv\")\n",
    "lsp_4_shibuya_loop = pd.read_csv(\"../src/rmsdh_result/ablation_study_loop4.csv\")\n",
    "\n",
    "lsp_2 = pd.read_csv(\"../src/rmsdh_result/ablation_study_par_2_paper.csv\")\n",
    "lsp_3 = pd.read_csv(\"../src/rmsdh_result/ablation_study_par_3_paper.csv\")\n",
    "lsp_4 = pd.read_csv(\"../src/rmsdh_result/ablation_study_par_4_paper.csv\")\n",
    "lsp_2 = lsp_2[lsp_2[\"p_pdb_id\"].isin(ok_pdb[\"p_pdb_id\"])].reset_index()\n",
    "lsp_3 = lsp_3[lsp_3[\"p_pdb_id\"].isin(ok_pdb[\"p_pdb_id\"])].reset_index()\n",
    "lsp_4 = lsp_4[lsp_4[\"p_pdb_id\"].isin(ok_pdb[\"p_pdb_id\"])].reset_index()\n",
    "\n",
    "lsp_2_loop = pd.read_csv(\"../src/rmsdh_result/ablation_study_loop_par2.csv\")\n",
    "lsp_3_loop = pd.read_csv(\"../src/rmsdh_result/ablation_study_loop_par3.csv\")\n",
    "lsp_4_loop = pd.read_csv(\"../src/rmsdh_result/ablation_study_loop_par4.csv\")\n",
    "lsp_2_loop = lsp_2_loop[lsp_2_loop[\"p_pdb_id\"].isin(ok_pdb[\"p_pdb_id\"])].reset_index()\n",
    "lsp_3_loop = lsp_3_loop[lsp_3_loop[\"p_pdb_id\"].isin(ok_pdb[\"p_pdb_id\"])].reset_index()\n",
    "lsp_4_loop = lsp_4_loop[lsp_4_loop[\"p_pdb_id\"].isin(ok_pdb[\"p_pdb_id\"])].reset_index()\n",
    "\n",
    "\n",
    "lsp_2_dyndom = pd.read_csv(\"../src/rmsdh_result/ablation_study_dyndom_2.csv.gz\")\n",
    "lsp_3_dyndom = pd.read_csv(\"../src/rmsdh_result/ablation_study_dyndom_3.csv.gz\")\n",
    "lsp_4_dyndom = pd.read_csv(\"../src/rmsdh_result/ablation_study_dyndom_4.csv.gz\")\n",
    "lsp_2_dyndom_loop = pd.read_csv(\"../src/rmsdh_result/ablation_study_loop_dyndom2.csv.gz\")\n",
    "lsp_3_dyndom_loop = pd.read_csv(\"../src/rmsdh_result/ablation_study_loop_dyndom3.csv.gz\")\n",
    "lsp_4_dyndom_loop = pd.read_csv(\"../src/rmsdh_result/ablation_study_loop_dyndom4.csv.gz\")\n",
    "fast_rmsdhk_2_dyndom = pd.read_csv(\"../src/rmsdh_result/fast_rmsdh_hingek_cnt_dyndom_2.csv\")\n",
    "rmsdhk_2_dyndom = pd.read_csv(\"../src/rmsdh_result/rmsdhk_dyndom_data_2.csv\")\n",
    "fast_rmsdhk_3_dyndom = pd.read_csv(\"../src/rmsdh_result/fast_rmsdh_hingek_cnt_dyndom_3.csv\")\n",
    "rmsdhk_3_dyndom = pd.read_csv(\"../src/rmsdh_result/rmsdhk_dyndom_data_3.csv\")\n",
    "fast_rmsdhk_4_dyndom = pd.read_csv(\"../src/rmsdh_result/fast_rmsdh_hingek_cnt_dyndom_4.csv\")\n",
    "rmsdhk_4_dyndom = pd.read_csv(\"../src/rmsdh_result/rmsdhk_dyndom_data_4.csv\")\n",
    "\n",
    "fast_rmsdhk_postpro_2_dyndom = pd.read_csv(\"../src/rmsdh_result/fast_rmsdh_hingek_cnt_dyndom_2_postpro.csv\")\n",
    "fast_rmsdhk_postpro_3_dyndom = pd.read_csv(\"../src/rmsdh_result/fast_rmsdh_hingek_cnt_dyndom_3_postpro.csv\")\n",
    "fast_rmsdhk_postpro_4_dyndom = pd.read_csv(\"../src/rmsdh_result/fast_rmsdh_hingek_cnt_dyndom_4_postpro.csv\")\n",
    "\n",
    "fast_rmsdhk_postpro_2_dyndom_loop = pd.read_csv(\"../src/rmsdh_result/fast_rmsdhk_dyndom_2_postpro_loop.csv\")\n",
    "fast_rmsdhk_postpro_3_dyndom_loop = pd.read_csv(\"../src/rmsdh_result/fast_rmsdhk_dyndom_3_postpro_loop.csv\")\n",
    "fast_rmsdhk_postpro_4_dyndom_loop = pd.read_csv(\"../src/rmsdh_result/fast_rmsdhk_dyndom_4_postpro_loop.csv\")\n",
    "\n",
    "rmsdhk_2 = rmsdhk_2[rmsdhk_2[\"p_pdb_id\"].isin(ok_pdb[\"p_pdb_id\"])].reset_index()\n",
    "rmsdhk_3 = rmsdhk_3[rmsdhk_3[\"p_pdb_id\"].isin(ok_pdb[\"p_pdb_id\"])].reset_index()\n",
    "rmsdhk_4 = rmsdhk_4[rmsdhk_4[\"p_pdb_id\"].isin(ok_pdb[\"p_pdb_id\"])].reset_index()\n",
    "\n",
    "fast_rmsdhk_2 = fast_rmsdhk_2[fast_rmsdhk_2[\"p_pdb_id\"].isin(ok_pdb[\"p_pdb_id\"])].reset_index()\n",
    "fast_rmsdhk_3 = fast_rmsdhk_3[fast_rmsdhk_3[\"p_pdb_id\"].isin(ok_pdb[\"p_pdb_id\"])].reset_index()\n",
    "fast_rmsdhk_4 = fast_rmsdhk_4[fast_rmsdhk_4[\"p_pdb_id\"].isin(ok_pdb[\"p_pdb_id\"])].reset_index()\n",
    "\n",
    "fast_rmsdhk_postpro_2 = fast_rmsdhk_postpro_2[fast_rmsdhk_postpro_2[\"p_pdb_id\"].isin(ok_pdb[\"p_pdb_id\"])].reset_index()\n",
    "fast_rmsdhk_postpro_3 = fast_rmsdhk_postpro_3[fast_rmsdhk_postpro_3[\"p_pdb_id\"].isin(ok_pdb[\"p_pdb_id\"])].reset_index()\n",
    "fast_rmsdhk_postpro_4 = fast_rmsdhk_postpro_4[fast_rmsdhk_postpro_4[\"p_pdb_id\"].isin(ok_pdb[\"p_pdb_id\"])].reset_index()\n",
    "\n",
    "fast_rmsdhk_postpro_2_loop = fast_rmsdhk_postpro_2_loop[fast_rmsdhk_postpro_2_loop[\"p_pdb_id\"].isin(ok_pdb[\"p_pdb_id\"])].reset_index()\n",
    "fast_rmsdhk_postpro_3_loop = fast_rmsdhk_postpro_3_loop[fast_rmsdhk_postpro_3_loop[\"p_pdb_id\"].isin(ok_pdb[\"p_pdb_id\"])].reset_index()\n",
    "fast_rmsdhk_postpro_4_loop = fast_rmsdhk_postpro_4_loop[fast_rmsdhk_postpro_4_loop[\"p_pdb_id\"].isin(ok_pdb[\"p_pdb_id\"])].reset_index()\n"
   ]
  },
  {
   "cell_type": "code",
   "execution_count": 10,
   "id": "d0378aab",
   "metadata": {},
   "outputs": [
    {
     "name": "stdout",
     "output_type": "stream",
     "text": [
      "1.1666666666666667\n",
      "2\n",
      "1\n",
      "1.3245614035087718\n",
      "3\n",
      "1\n",
      "1.349609375\n",
      "3\n",
      "1\n"
     ]
    }
   ],
   "source": [
    "print(small_fast_rmsdhk_2_postpro_loop[\"iter_num\"].mean())\n",
    "print(small_fast_rmsdhk_2_postpro_loop[\"iter_num\"].max())\n",
    "print(small_fast_rmsdhk_2_postpro_loop[\"iter_num\"].min())\n",
    "\n",
    "print(fast_rmsdhk_postpro_2_loop[\"iter_num\"].mean())\n",
    "print(fast_rmsdhk_postpro_2_loop[\"iter_num\"].max())\n",
    "print(fast_rmsdhk_postpro_2_loop[\"iter_num\"].min())\n",
    "\n",
    "print(fast_rmsdhk_postpro_2_dyndom_loop[\"iter_num\"].mean())\n",
    "print(fast_rmsdhk_postpro_2_dyndom_loop[\"iter_num\"].max())\n",
    "print(fast_rmsdhk_postpro_2_dyndom_loop[\"iter_num\"].min())\n"
   ]
  },
  {
   "cell_type": "code",
   "execution_count": 11,
   "id": "cb706b52",
   "metadata": {},
   "outputs": [
    {
     "name": "stdout",
     "output_type": "stream",
     "text": [
      "1.5\n",
      "2\n",
      "1\n",
      "1.4385964912280702\n",
      "2\n",
      "1\n",
      "1.4479166666666667\n",
      "3\n",
      "1\n"
     ]
    }
   ],
   "source": [
    "print(small_fast_rmsdhk_3_postpro_loop[\"iter_num\"].mean())\n",
    "print(small_fast_rmsdhk_3_postpro_loop[\"iter_num\"].max())\n",
    "print(small_fast_rmsdhk_3_postpro_loop[\"iter_num\"].min())\n",
    "\n",
    "print(fast_rmsdhk_postpro_3_loop[\"iter_num\"].mean())\n",
    "print(fast_rmsdhk_postpro_3_loop[\"iter_num\"].max())\n",
    "print(fast_rmsdhk_postpro_3_loop[\"iter_num\"].min())\n",
    "\n",
    "print(fast_rmsdhk_postpro_3_dyndom_loop[\"iter_num\"].mean())\n",
    "print(fast_rmsdhk_postpro_3_dyndom_loop[\"iter_num\"].max())\n",
    "print(fast_rmsdhk_postpro_3_dyndom_loop[\"iter_num\"].min())\n"
   ]
  },
  {
   "cell_type": "code",
   "execution_count": 12,
   "id": "259b6918",
   "metadata": {},
   "outputs": [
    {
     "name": "stdout",
     "output_type": "stream",
     "text": [
      "1.5\n",
      "2\n",
      "1\n",
      "1.5175438596491229\n",
      "3\n",
      "1\n",
      "1.5205078125\n",
      "3\n",
      "1\n"
     ]
    }
   ],
   "source": [
    "print(small_fast_rmsdhk_4_postpro_loop[\"iter_num\"].mean())\n",
    "print(small_fast_rmsdhk_4_postpro_loop[\"iter_num\"].max())\n",
    "print(small_fast_rmsdhk_4_postpro_loop[\"iter_num\"].min())\n",
    "\n",
    "print(fast_rmsdhk_postpro_4_loop[\"iter_num\"].mean())\n",
    "print(fast_rmsdhk_postpro_4_loop[\"iter_num\"].max())\n",
    "print(fast_rmsdhk_postpro_4_loop[\"iter_num\"].min())\n",
    "\n",
    "print(fast_rmsdhk_postpro_4_dyndom_loop[\"iter_num\"].mean())\n",
    "print(fast_rmsdhk_postpro_4_dyndom_loop[\"iter_num\"].max())\n",
    "print(fast_rmsdhk_postpro_4_dyndom_loop[\"iter_num\"].min())\n"
   ]
  },
  {
   "cell_type": "code",
   "execution_count": 13,
   "id": "d1446988",
   "metadata": {},
   "outputs": [
    {
     "name": "stdout",
     "output_type": "stream",
     "text": [
      "2.3575\n",
      "3.63\n",
      "2.0\n",
      "2.249035087719298\n",
      "4.07\n",
      "1.98\n",
      "2.2033430989583334\n",
      "5.01\n",
      "1.82\n"
     ]
    }
   ],
   "source": [
    "print(lsp_2_shibuya_loop[[f\"{i}_iter_num\" for i in range(100)]].mean().mean())\n",
    "print(lsp_2_shibuya_loop[[f\"{i}_iter_num\" for i in range(100)]].max().mean())\n",
    "print(lsp_2_shibuya_loop[[f\"{i}_iter_num\" for i in range(100)]].min().mean())\n",
    "\n",
    "print(lsp_2_loop[[f\"{i}_iter_num\" for i in range(100)]].mean().mean())\n",
    "print(lsp_2_loop[[f\"{i}_iter_num\" for i in range(100)]].max().mean())\n",
    "print(lsp_2_loop[[f\"{i}_iter_num\" for i in range(100)]].min().mean())\n",
    "\n",
    "print(lsp_2_dyndom_loop[[f\"{i}_iter_num\" for i in range(100)]].mean().mean())\n",
    "print(lsp_2_dyndom_loop[[f\"{i}_iter_num\" for i in range(100)]].max().mean())\n",
    "print(lsp_2_dyndom_loop[[f\"{i}_iter_num\" for i in range(100)]].min().mean())\n",
    "\n"
   ]
  },
  {
   "cell_type": "code",
   "execution_count": 14,
   "id": "1693e6f9",
   "metadata": {},
   "outputs": [
    {
     "name": "stdout",
     "output_type": "stream",
     "text": [
      "2.474166666666667\n",
      "3.9\n",
      "2.0\n",
      "2.4174561403508776\n",
      "4.95\n",
      "2.0\n",
      "2.359306640625\n",
      "6.04\n",
      "2.0\n"
     ]
    }
   ],
   "source": [
    "print(lsp_3_shibuya_loop[[f\"{i}_iter_num\" for i in range(100)]].mean().mean())\n",
    "print(lsp_3_shibuya_loop[[f\"{i}_iter_num\" for i in range(100)]].max().mean())\n",
    "print(lsp_3_shibuya_loop[[f\"{i}_iter_num\" for i in range(100)]].min().mean())\n",
    "\n",
    "print(lsp_3_loop[[f\"{i}_iter_num\" for i in range(100)]].mean().mean())\n",
    "print(lsp_3_loop[[f\"{i}_iter_num\" for i in range(100)]].max().mean())\n",
    "print(lsp_3_loop[[f\"{i}_iter_num\" for i in range(100)]].min().mean())\n",
    "\n",
    "print(lsp_3_dyndom_loop[[f\"{i}_iter_num\" for i in range(100)]].mean().mean())\n",
    "print(lsp_3_dyndom_loop[[f\"{i}_iter_num\" for i in range(100)]].max().mean())\n",
    "print(lsp_3_dyndom_loop[[f\"{i}_iter_num\" for i in range(100)]].min().mean())\n",
    "\n"
   ]
  },
  {
   "cell_type": "code",
   "execution_count": 15,
   "id": "6f36659d",
   "metadata": {},
   "outputs": [
    {
     "name": "stdout",
     "output_type": "stream",
     "text": [
      "2.578333333333333\n",
      "3.85\n",
      "2.0\n",
      "2.543421052631579\n",
      "4.85\n",
      "2.0\n",
      "2.4968131510416667\n",
      "6.17\n",
      "2.0\n"
     ]
    }
   ],
   "source": [
    "print(lsp_4_shibuya_loop[[f\"{i}_iter_num\" for i in range(100)]].mean().mean())\n",
    "print(lsp_4_shibuya_loop[[f\"{i}_iter_num\" for i in range(100)]].max().mean())\n",
    "print(lsp_4_shibuya_loop[[f\"{i}_iter_num\" for i in range(100)]].min().mean())\n",
    "\n",
    "print(lsp_4_loop[[f\"{i}_iter_num\" for i in range(100)]].mean().mean())\n",
    "print(lsp_4_loop[[f\"{i}_iter_num\" for i in range(100)]].max().mean())\n",
    "print(lsp_4_loop[[f\"{i}_iter_num\" for i in range(100)]].min().mean())\n",
    "\n",
    "print(lsp_4_dyndom_loop[[f\"{i}_iter_num\" for i in range(100)]].mean().mean())\n",
    "print(lsp_4_dyndom_loop[[f\"{i}_iter_num\" for i in range(100)]].max().mean())\n",
    "print(lsp_4_dyndom_loop[[f\"{i}_iter_num\" for i in range(100)]].min().mean())\n"
   ]
  },
  {
   "cell_type": "code",
   "execution_count": 17,
   "id": "a0f24ab0",
   "metadata": {},
   "outputs": [
    {
     "data": {
      "text/plain": [
       "Text(0.2, 0.85, 'Pearson r: -0.091\\np-value: 4.56e-07')"
      ]
     },
     "execution_count": 17,
     "metadata": {},
     "output_type": "execute_result"
    },
    {
     "data": {
      "image/png": "[encoded data removed]",
      "text/plain": [
       "<Figure size 360x360 with 1 Axes>"
      ]
     },
     "metadata": {
      "needs_background": "light"
     },
     "output_type": "display_data"
    }
   ],
   "source": [
    "monge_rate = dyndom_monge[\"monge_rate_1\"].rename(\"monge_rate_fourth\")\n",
    "approximation_ratio = (fast_rmsdhk_2_dyndom[\"RMSDh\"] / rmsdhk_2_dyndom[\"RMSDh\"]).rename(\"approximation_ratio\")\n",
    "corr_coeff, p_value = pearsonr(monge_rate, approximation_ratio)\n",
    "\n",
    "plt.figure(figsize=(5, 5))\n",
    "plt.scatter(monge_rate, approximation_ratio, s=5)\n",
    "plt.title(\"Approximation ratio by SH vs Monge rate\\n for k=2\", fontsize=15)\n",
    "plt.ylabel(\"Approximation ratio by SH\", fontsize=15)\n",
    "plt.xlabel(\"Monge rate\", fontsize=15)\n",
    "plt.ylim(1)\n",
    "plt.xlim(0.4,1)\n",
    "\n",
    "plt.text(0.2, 0.85, f'Pearson r: {corr_coeff:.3f}\\np-value: {p_value:.2e}',\n",
    "         transform=plt.gca().transAxes, fontsize=15)"
   ]
  },
  {
   "cell_type": "code",
   "execution_count": 18,
   "id": "ae201829",
   "metadata": {},
   "outputs": [
    {
     "data": {
      "text/plain": [
       "Text(0.3, 0.85, 'Pearson r: 0.009\\np-value: 0.612')"
      ]
     },
     "execution_count": 18,
     "metadata": {},
     "output_type": "execute_result"
    },
    {
     "data": {
      "image/png": "[encoded data removed]",
      "text/plain": [
       "<Figure size 360x360 with 1 Axes>"
      ]
     },
     "metadata": {
      "needs_background": "light"
     },
     "output_type": "display_data"
    }
   ],
   "source": [
    "monge_rate = dyndom_monge[\"monge_rate_1\"].rename(\"monge_rate_fourth\")\n",
    "approximation_ratio = (fast_rmsdhk_3_dyndom[\"RMSDh\"] / rmsdhk_3_dyndom[\"RMSDh\"]).rename(\"approximation_ratio\")\n",
    "\n",
    "# Calculate Pearson correlation coefficient and p-value\n",
    "corr_coeff, p_value = pearsonr(monge_rate, approximation_ratio)\n",
    "\n",
    "plt.figure(figsize=(5, 5))\n",
    "plt.scatter(monge_rate, approximation_ratio, s=5)\n",
    "plt.title(\"Approximation ratio by SH vs Monge rate\\n for k=3\", fontsize=15)\n",
    "plt.ylabel(\"Approximation ratio by SH\", fontsize=15)\n",
    "plt.xlabel(\"Monge rate\", fontsize=15)\n",
    "plt.ylim(1)\n",
    "plt.xlim(0.4,1)\n",
    "\n",
    "# Displaying the correlation coefficient and p-value on the plot\n",
    "plt.text(0.3, 0.85, f'Pearson r: {corr_coeff:.3f}\\np-value: {p_value:.3f}',\n",
    "         transform=plt.gca().transAxes, fontsize=15)"
   ]
  },
  {
   "cell_type": "code",
   "execution_count": 19,
   "id": "42925699",
   "metadata": {},
   "outputs": [
    {
     "data": {
      "text/plain": [
       "Text(0.2, 0.85, 'Pearson r: -0.003\\np-value: 0.847')"
      ]
     },
     "execution_count": 19,
     "metadata": {},
     "output_type": "execute_result"
    },
    {
     "data": {
      "image/png": "[encoded data removed]",
      "text/plain": [
       "<Figure size 360x360 with 1 Axes>"
      ]
     },
     "metadata": {
      "needs_background": "light"
     },
     "output_type": "display_data"
    }
   ],
   "source": [
    "monge_rate = dyndom_monge[\"monge_rate_1\"].rename(\"monge_rate_fourth\")\n",
    "approximation_ratio = (fast_rmsdhk_4_dyndom[\"RMSDh\"] / rmsdhk_4_dyndom[\"RMSDh\"]).rename(\"approximation_ratio\")\n",
    "\n",
    "# Calculate Pearson correlation coefficient and p-value\n",
    "corr_coeff, p_value = pearsonr(monge_rate, approximation_ratio)\n",
    "\n",
    "plt.figure(figsize=(5, 5))\n",
    "plt.scatter(monge_rate, approximation_ratio, s=5)\n",
    "plt.title(\"Approximation ratio by SH vs Monge rate\\n for k=4\", fontsize=15)\n",
    "plt.ylabel(\"Approximation ratio by SH\", fontsize=15)\n",
    "plt.xlabel(\"Monge rate\", fontsize=15)\n",
    "plt.ylim(1)\n",
    "plt.xlim(0.4,1)\n",
    "\n",
    "# Displaying the correlation coefficient and p-value on the plot\n",
    "plt.text(0.2, 0.85, f'Pearson r: {corr_coeff:.3f}\\np-value: {p_value:.3f}',\n",
    "         transform=plt.gca().transAxes, fontsize=15)"
   ]
  },
  {
   "cell_type": "code",
   "execution_count": 20,
   "id": "7316a676",
   "metadata": {},
   "outputs": [
    {
     "data": {
      "text/plain": [
       "Text(0.2, 0.85, 'Pearson r: 0.007\\np-value: 0.691')"
      ]
     },
     "execution_count": 20,
     "metadata": {},
     "output_type": "execute_result"
    },
    {
     "data": {
      "image/png": "[encoded data removed]",
      "text/plain": [
       "<Figure size 360x360 with 1 Axes>"
      ]
     },
     "metadata": {
      "needs_background": "light"
     },
     "output_type": "display_data"
    }
   ],
   "source": [
    "monge_rate = dyndom_monge[\"monge_rate_1\"].rename(\"monge_rate_fourth\")\n",
    "approximation_ratio = (fast_rmsdhk_postpro_4_dyndom_loop[\"RMSDh\"] / rmsdhk_4_dyndom[\"RMSDh\"]).rename(\"approximation_ratio\")\n",
    "\n",
    "# Calculate Pearson correlation coefficient and p-value\n",
    "corr_coeff, p_value = pearsonr(monge_rate, approximation_ratio)\n",
    "\n",
    "plt.figure(figsize=(5, 5))\n",
    "plt.scatter(monge_rate, approximation_ratio, s=5)\n",
    "plt.title(\"Approximation ratio by SH vs Monge rate\\n for k=4\", fontsize=15)\n",
    "plt.ylabel(\"Approximation ratio by SH\", fontsize=15)\n",
    "plt.xlabel(\"Monge rate\", fontsize=15)\n",
    "plt.ylim(1)\n",
    "plt.xlim(0.4,1)\n",
    "\n",
    "# Displaying the correlation coefficient and p-value on the plot\n",
    "plt.text(0.2, 0.85, f'Pearson r: {corr_coeff:.3f}\\np-value: {p_value:.3f}',\n",
    "         transform=plt.gca().transAxes, fontsize=15)"
   ]
  },
  {
   "cell_type": "code",
   "execution_count": 21,
   "id": "0be04648",
   "metadata": {},
   "outputs": [
    {
     "name": "stdout",
     "output_type": "stream",
     "text": [
      "-----SH-----\n",
      "-0.09085202638274043\n",
      "0.009164465512590883\n",
      "-0.0034889397910010393\n",
      "-----SH + LO-----\n",
      "-0.061727840655845606\n",
      "0.019102633971008875\n",
      "0.006429915382918597\n",
      "-----SH + ILO-----\n",
      "-0.05510492746982033\n",
      "0.01765860515824348\n",
      "0.0071744952056100614\n"
     ]
    }
   ],
   "source": [
    "monge_rate = dyndom_monge[\"monge_rate_1\"].rename(\"monge_rate_fourth\")\n",
    "print(\"-----SH-----\")\n",
    "approximation_ratio_2 = (fast_rmsdhk_2_dyndom[\"RMSDh\"] / rmsdhk_2_dyndom[\"RMSDh\"]).rename(\"approximation_ratio\")\n",
    "corr_coeff, p_value = pearsonr(monge_rate, approximation_ratio_2)\n",
    "print(corr_coeff)\n",
    "approximation_ratio_3 = (fast_rmsdhk_3_dyndom[\"RMSDh\"] / rmsdhk_3_dyndom[\"RMSDh\"]).rename(\"approximation_ratio\")\n",
    "corr_coeff, p_value = pearsonr(monge_rate, approximation_ratio_3)\n",
    "print(corr_coeff)\n",
    "approximation_ratio_4 = (fast_rmsdhk_4_dyndom[\"RMSDh\"] / rmsdhk_4_dyndom[\"RMSDh\"]).rename(\"approximation_ratio\")\n",
    "corr_coeff, p_value = pearsonr(monge_rate, approximation_ratio_4)\n",
    "print(corr_coeff)\n",
    "\n",
    "print(\"-----SH + LO-----\")\n",
    "approximation_ratio_2_postpro = (fast_rmsdhk_postpro_2_dyndom[\"RMSDh\"] / rmsdhk_2_dyndom[\"RMSDh\"]).rename(\"approximation_ratio\")\n",
    "corr_coeff, p_value = pearsonr(monge_rate, approximation_ratio_2_postpro)\n",
    "print(corr_coeff)\n",
    "approximation_ratio_3_postpro = (fast_rmsdhk_postpro_3_dyndom[\"RMSDh\"] / rmsdhk_3_dyndom[\"RMSDh\"]).rename(\"approximation_ratio\")\n",
    "corr_coeff, p_value = pearsonr(monge_rate, approximation_ratio_3_postpro)\n",
    "print(corr_coeff)\n",
    "approximation_ratio_4_postpro = (fast_rmsdhk_postpro_4_dyndom[\"RMSDh\"] / rmsdhk_4_dyndom[\"RMSDh\"]).rename(\"approximation_ratio\")\n",
    "corr_coeff, p_value = pearsonr(monge_rate, approximation_ratio_4_postpro)\n",
    "print(corr_coeff)\n",
    "\n",
    "print(\"-----SH + ILO-----\")\n",
    "approximation_ratio_2_postpro_loop = (fast_rmsdhk_postpro_2_dyndom_loop[\"RMSDh\"] / rmsdhk_2_dyndom[\"RMSDh\"]).rename(\"approximation_ratio\")\n",
    "corr_coeff, p_value = pearsonr(monge_rate, approximation_ratio_2_postpro_loop)\n",
    "print(corr_coeff)\n",
    "approximation_ratio_3_postpro_loop = (fast_rmsdhk_postpro_3_dyndom_loop[\"RMSDh\"] / rmsdhk_3_dyndom[\"RMSDh\"]).rename(\"approximation_ratio\")\n",
    "corr_coeff, p_value = pearsonr(monge_rate, approximation_ratio_3_postpro_loop)\n",
    "print(corr_coeff)\n",
    "approximation_ratio_4_postpro_loop = (fast_rmsdhk_postpro_4_dyndom_loop[\"RMSDh\"] / rmsdhk_4_dyndom[\"RMSDh\"]).rename(\"approximation_ratio\")\n",
    "corr_coeff, p_value = pearsonr(monge_rate, approximation_ratio_4_postpro_loop)\n",
    "print(corr_coeff)"
   ]
  },
  {
   "cell_type": "code",
   "execution_count": 22,
   "id": "98463d9e",
   "metadata": {},
   "outputs": [
    {
     "name": "stdout",
     "output_type": "stream",
     "text": [
      "-----SH-----\n",
      "-0.07411367014188451\n",
      "-0.0742378024889282\n",
      "-0.0748892880444888\n",
      "-----SH + LO-----\n",
      "-0.07667697194588685\n",
      "-0.07626995079652994\n",
      "-0.07367401472379184\n",
      "-----SH + ILO-----\n",
      "-0.08274031514147917\n",
      "-0.0768667175919208\n",
      "-0.07298848913819762\n"
     ]
    }
   ],
   "source": [
    "monge_rate = dyndom_monge[\"monge_rate_1\"].rename(\"monge_rate_fourth\")\n",
    "print(\"-----SH-----\")\n",
    "corr_coeff, p_value = pearsonr(monge_rate, fast_rmsdhk_2_dyndom[\"exec_time (s)\"])\n",
    "print(corr_coeff)\n",
    "corr_coeff, p_value = pearsonr(monge_rate, fast_rmsdhk_3_dyndom[\"exec_time (s)\"])\n",
    "print(corr_coeff)\n",
    "corr_coeff, p_value = pearsonr(monge_rate, fast_rmsdhk_4_dyndom[\"exec_time (s)\"])\n",
    "print(corr_coeff)\n",
    "\n",
    "print(\"-----SH + LO-----\")\n",
    "corr_coeff, p_value = pearsonr(monge_rate, fast_rmsdhk_postpro_2_dyndom[\"exec_time (s)\"])\n",
    "print(corr_coeff)\n",
    "corr_coeff, p_value = pearsonr(monge_rate, fast_rmsdhk_postpro_3_dyndom[\"exec_time (s)\"])\n",
    "print(corr_coeff)\n",
    "corr_coeff, p_value = pearsonr(monge_rate, fast_rmsdhk_postpro_4_dyndom[\"exec_time (s)\"])\n",
    "print(corr_coeff)\n",
    "\n",
    "print(\"-----SH + ILO-----\")\n",
    "corr_coeff, p_value = pearsonr(monge_rate, fast_rmsdhk_postpro_2_dyndom_loop[\"exec_time (s)\"])\n",
    "print(corr_coeff)\n",
    "corr_coeff, p_value = pearsonr(monge_rate, fast_rmsdhk_postpro_3_dyndom_loop[\"exec_time (s)\"])\n",
    "print(corr_coeff)\n",
    "corr_coeff, p_value = pearsonr(monge_rate, fast_rmsdhk_postpro_4_dyndom_loop[\"exec_time (s)\"])\n",
    "print(corr_coeff)"
   ]
  },
  {
   "cell_type": "code",
   "execution_count": 23,
   "id": "ddfee1fd",
   "metadata": {},
   "outputs": [
    {
     "name": "stdout",
     "output_type": "stream",
     "text": [
      "-----SH + ILO-----\n",
      "-0.10890157540104657\n",
      "-0.07338446777854934\n",
      "-0.01952509993794898\n"
     ]
    }
   ],
   "source": [
    "monge_rate = dyndom_monge[\"monge_rate_1\"].rename(\"monge_rate_fourth\")\n",
    "print(\"-----SH + ILO-----\")\n",
    "corr_coeff, p_value = pearsonr(monge_rate, fast_rmsdhk_postpro_2_dyndom_loop[\"iter_num\"])\n",
    "print(corr_coeff)\n",
    "corr_coeff, p_value = pearsonr(monge_rate, fast_rmsdhk_postpro_3_dyndom_loop[\"iter_num\"])\n",
    "print(corr_coeff)\n",
    "corr_coeff, p_value = pearsonr(monge_rate, fast_rmsdhk_postpro_4_dyndom_loop[\"iter_num\"])\n",
    "print(corr_coeff)"
   ]
  },
  {
   "cell_type": "code",
   "execution_count": 24,
   "id": "641d277d",
   "metadata": {},
   "outputs": [
    {
     "name": "stdout",
     "output_type": "stream",
     "text": [
      "1.1449849861061254\n",
      "3.4231361196797687\n",
      "1.0\n",
      "1.1059995423606885\n",
      "3.4176864553485085\n",
      "1.0\n"
     ]
    }
   ],
   "source": [
    "print(lsp_2.filter(like=\"RMSDh\").div(rmsdhk_2[\"RMSDh\"], axis=0).mean().mean())\n",
    "print(lsp_2.filter(like=\"RMSDh\").div(rmsdhk_2[\"RMSDh\"], axis=0).max().mean())\n",
    "print(lsp_2.filter(like=\"RMSDh\").div(rmsdhk_2[\"RMSDh\"], axis=0).min().mean())\n",
    "print(lsp_2_loop.filter(like=\"RMSDh\").div(rmsdhk_2[\"RMSDh\"], axis=0).mean().mean())\n",
    "print(lsp_2_loop.filter(like=\"RMSDh\").div(rmsdhk_2[\"RMSDh\"], axis=0).max().mean())\n",
    "print(lsp_2_loop.filter(like=\"RMSDh\").div(rmsdhk_2[\"RMSDh\"], axis=0).min().mean())"
   ]
  },
  {
   "cell_type": "code",
   "execution_count": 25,
   "id": "c2e1868c",
   "metadata": {},
   "outputs": [
    {
     "name": "stdout",
     "output_type": "stream",
     "text": [
      "1.212501981421784\n",
      "4.154659182559665\n",
      "1.0\n",
      "1.1388714236703306\n",
      "3.8248766355187604\n",
      "1.0\n"
     ]
    }
   ],
   "source": [
    "print(lsp_3.filter(like=\"RMSDh\").div(rmsdhk_3[\"RMSDh\"], axis=0).mean().mean())\n",
    "print(lsp_3.filter(like=\"RMSDh\").div(rmsdhk_3[\"RMSDh\"], axis=0).max().mean())\n",
    "print(lsp_3.filter(like=\"RMSDh\").div(rmsdhk_3[\"RMSDh\"], axis=0).min().mean())\n",
    "\n",
    "print(lsp_3_loop.filter(like=\"RMSDh\").div(rmsdhk_3[\"RMSDh\"], axis=0).mean().mean())\n",
    "print(lsp_3_loop.filter(like=\"RMSDh\").div(rmsdhk_3[\"RMSDh\"], axis=0).max().mean())\n",
    "print(lsp_3_loop.filter(like=\"RMSDh\").div(rmsdhk_3[\"RMSDh\"], axis=0).min().mean())"
   ]
  },
  {
   "cell_type": "code",
   "execution_count": 26,
   "id": "008a0ee7",
   "metadata": {},
   "outputs": [
    {
     "name": "stdout",
     "output_type": "stream",
     "text": [
      "1.229180319802953\n",
      "3.629261395696524\n",
      "1.0\n",
      "1.1509600050388904\n",
      "3.0497529182892777\n",
      "1.0\n"
     ]
    }
   ],
   "source": [
    "print(lsp_4.filter(like=\"RMSDh\").div(rmsdhk_4[\"RMSDh\"], axis=0).mean().mean())\n",
    "print(lsp_4.filter(like=\"RMSDh\").div(rmsdhk_4[\"RMSDh\"], axis=0).max().mean())\n",
    "print(lsp_4.filter(like=\"RMSDh\").div(rmsdhk_4[\"RMSDh\"], axis=0).min().mean())\n",
    "\n",
    "print(lsp_4_loop.filter(like=\"RMSDh\").div(rmsdhk_4[\"RMSDh\"], axis=0).mean().mean())\n",
    "print(lsp_4_loop.filter(like=\"RMSDh\").div(rmsdhk_4[\"RMSDh\"], axis=0).max().mean())\n",
    "print(lsp_4_loop.filter(like=\"RMSDh\").div(rmsdhk_4[\"RMSDh\"], axis=0).min().mean())"
   ]
  },
  {
   "cell_type": "code",
   "execution_count": 27,
   "id": "fab3fa56",
   "metadata": {},
   "outputs": [
    {
     "name": "stdout",
     "output_type": "stream",
     "text": [
      "2.249035087719298\n",
      "2.4174561403508776\n",
      "2.543421052631579\n"
     ]
    }
   ],
   "source": [
    "print(lsp_2_loop.filter(like=\"iter_num\").mean(axis=1).mean())\n",
    "print(lsp_3_loop.filter(like=\"iter_num\").mean(axis=1).mean())\n",
    "print(lsp_4_loop.filter(like=\"iter_num\").mean(axis=1).mean())"
   ]
  },
  {
   "cell_type": "code",
   "execution_count": 28,
   "id": "ec9b327d",
   "metadata": {},
   "outputs": [
    {
     "name": "stdout",
     "output_type": "stream",
     "text": [
      "4.07\n",
      "4.95\n",
      "4.85\n"
     ]
    }
   ],
   "source": [
    "print(lsp_2_loop.filter(like=\"iter_num\").max().mean())\n",
    "print(lsp_3_loop.filter(like=\"iter_num\").max().mean())\n",
    "print(lsp_4_loop.filter(like=\"iter_num\").max().mean())"
   ]
  },
  {
   "cell_type": "code",
   "execution_count": 29,
   "id": "03c043b5",
   "metadata": {},
   "outputs": [
    {
     "name": "stdout",
     "output_type": "stream",
     "text": [
      "2.249035087719298\n",
      "2.4174561403508776\n",
      "2.543421052631579\n"
     ]
    }
   ],
   "source": [
    "print(lsp_2_loop.filter(like=\"iter_num\").mean(axis=1).mean())\n",
    "print(lsp_3_loop.filter(like=\"iter_num\").mean(axis=1).mean())\n",
    "print(lsp_4_loop.filter(like=\"iter_num\").mean(axis=1).mean())"
   ]
  },
  {
   "cell_type": "code",
   "execution_count": 30,
   "id": "54bdfd22",
   "metadata": {},
   "outputs": [
    {
     "name": "stdout",
     "output_type": "stream",
     "text": [
      "1.1307520818680425\n",
      "8.490651102288872\n",
      "1.0\n"
     ]
    }
   ],
   "source": [
    "print(lsp_2_dyndom_loop.filter(like=\"RMSDh\").div(rmsdhk_2_dyndom[\"RMSDh\"], axis=0).mean().mean())\n",
    "print(lsp_2_dyndom_loop.filter(like=\"RMSDh\").div(rmsdhk_2_dyndom[\"RMSDh\"], axis=0).max().mean())\n",
    "print(lsp_2_dyndom_loop.filter(like=\"RMSDh\").div(rmsdhk_2_dyndom[\"RMSDh\"], axis=0).min().mean())"
   ]
  },
  {
   "cell_type": "code",
   "execution_count": 31,
   "id": "d4f02908",
   "metadata": {},
   "outputs": [
    {
     "name": "stdout",
     "output_type": "stream",
     "text": [
      "1.1818850972045682\n",
      "9.98260426409367\n",
      "1.0\n"
     ]
    }
   ],
   "source": [
    "print(lsp_2_dyndom.filter(like=\"RMSDh\").div(rmsdhk_2_dyndom[\"RMSDh\"], axis=0).mean().mean())\n",
    "print(lsp_2_dyndom.filter(like=\"RMSDh\").div(rmsdhk_2_dyndom[\"RMSDh\"], axis=0).max().mean())\n",
    "print(lsp_2_dyndom.filter(like=\"RMSDh\").div(rmsdhk_2_dyndom[\"RMSDh\"], axis=0).min().mean())"
   ]
  },
  {
   "cell_type": "code",
   "execution_count": 32,
   "id": "e9382fc9",
   "metadata": {},
   "outputs": [
    {
     "name": "stdout",
     "output_type": "stream",
     "text": [
      "1.1244773184929298\n",
      "7.901051586381571\n",
      "1.0\n"
     ]
    }
   ],
   "source": [
    "print(lsp_2_dyndom[dyndom_monge[\"monge_rate_1\"] >= 0.9].filter(like=\"RMSDh\").div(rmsdhk_2_dyndom[dyndom_monge[\"monge_rate_1\"] >= 0.9][\"RMSDh\"], axis=0).mean().mean())\n",
    "print(lsp_2_dyndom[dyndom_monge[\"monge_rate_1\"] >= 0.9].filter(like=\"RMSDh\").div(rmsdhk_2_dyndom[dyndom_monge[\"monge_rate_1\"] >= 0.9][\"RMSDh\"], axis=0).max().mean())\n",
    "print(lsp_2_dyndom[dyndom_monge[\"monge_rate_1\"] >= 0.9].filter(like=\"RMSDh\").div(rmsdhk_2_dyndom[dyndom_monge[\"monge_rate_1\"] >= 0.9][\"RMSDh\"], axis=0).min().mean())"
   ]
  },
  {
   "cell_type": "code",
   "execution_count": 33,
   "id": "16db3d68",
   "metadata": {},
   "outputs": [
    {
     "name": "stdout",
     "output_type": "stream",
     "text": [
      "1.1483154909291715\n",
      "6.0379444712367345\n",
      "1.0\n"
     ]
    }
   ],
   "source": [
    "print(lsp_3_dyndom[dyndom_monge[\"monge_rate_1\"] >= 0.9].filter(like=\"RMSDh\").div(rmsdhk_3_dyndom[dyndom_monge[\"monge_rate_1\"] >= 0.9][\"RMSDh\"], axis=0).mean().mean())\n",
    "print(lsp_3_dyndom[dyndom_monge[\"monge_rate_1\"] >= 0.9].filter(like=\"RMSDh\").div(rmsdhk_3_dyndom[dyndom_monge[\"monge_rate_1\"] >= 0.9][\"RMSDh\"], axis=0).max().mean())\n",
    "print(lsp_3_dyndom[dyndom_monge[\"monge_rate_1\"] >= 0.9].filter(like=\"RMSDh\").div(rmsdhk_3_dyndom[dyndom_monge[\"monge_rate_1\"] >= 0.9][\"RMSDh\"], axis=0).min().mean())"
   ]
  },
  {
   "cell_type": "code",
   "execution_count": 34,
   "id": "d4c2279b",
   "metadata": {},
   "outputs": [
    {
     "name": "stdout",
     "output_type": "stream",
     "text": [
      "1.1789041548944672\n",
      "6.224864151752652\n",
      "1.0\n"
     ]
    }
   ],
   "source": [
    "print(lsp_4_dyndom[dyndom_monge[\"monge_rate_1\"] >= 0.9].filter(like=\"RMSDh\").div(rmsdhk_4_dyndom[dyndom_monge[\"monge_rate_1\"] >= 0.9][\"RMSDh\"], axis=0).mean().mean())\n",
    "print(lsp_4_dyndom[dyndom_monge[\"monge_rate_1\"] >= 0.9].filter(like=\"RMSDh\").div(rmsdhk_4_dyndom[dyndom_monge[\"monge_rate_1\"] >= 0.9][\"RMSDh\"], axis=0).max().mean())\n",
    "print(lsp_4_dyndom[dyndom_monge[\"monge_rate_1\"] >= 0.9].filter(like=\"RMSDh\").div(rmsdhk_4_dyndom[dyndom_monge[\"monge_rate_1\"] >= 0.9][\"RMSDh\"], axis=0).min().mean())"
   ]
  },
  {
   "cell_type": "code",
   "execution_count": 35,
   "id": "614ea63b",
   "metadata": {},
   "outputs": [
    {
     "name": "stdout",
     "output_type": "stream",
     "text": [
      "1.2043790417001219\n",
      "10.125185835253664\n",
      "1.0\n"
     ]
    }
   ],
   "source": [
    "print(lsp_3_dyndom.filter(like=\"RMSDh\").div(rmsdhk_3_dyndom[\"RMSDh\"], axis=0).mean().mean())\n",
    "print(lsp_3_dyndom.filter(like=\"RMSDh\").div(rmsdhk_3_dyndom[\"RMSDh\"], axis=0).max().mean())\n",
    "print(lsp_3_dyndom.filter(like=\"RMSDh\").div(rmsdhk_3_dyndom[\"RMSDh\"], axis=0).min().mean())"
   ]
  },
  {
   "cell_type": "code",
   "execution_count": 36,
   "id": "1236be78",
   "metadata": {},
   "outputs": [
    {
     "name": "stdout",
     "output_type": "stream",
     "text": [
      "1.2168630251649344\n",
      "14.78219459996822\n",
      "1.0\n"
     ]
    }
   ],
   "source": [
    "print(lsp_4_dyndom.filter(like=\"RMSDh\").div(rmsdhk_4_dyndom[\"RMSDh\"], axis=0).mean().mean())\n",
    "print(lsp_4_dyndom.filter(like=\"RMSDh\").div(rmsdhk_4_dyndom[\"RMSDh\"], axis=0).max().mean())\n",
    "print(lsp_4_dyndom.filter(like=\"RMSDh\").div(rmsdhk_4_dyndom[\"RMSDh\"], axis=0).min().mean())"
   ]
  },
  {
   "cell_type": "code",
   "execution_count": 37,
   "id": "7ae06bf3",
   "metadata": {},
   "outputs": [
    {
     "name": "stdout",
     "output_type": "stream",
     "text": [
      "1.270773243131166\n",
      "2.8506533149628357\n",
      "1.0\n"
     ]
    }
   ],
   "source": [
    "print(lsp_2_shibuya.filter(like=\"RMSDh\").div(small_rmsdhk_2[\"RMSDh\"], axis=0).mean().mean())\n",
    "print(lsp_2_shibuya.filter(like=\"RMSDh\").div(small_rmsdhk_2[\"RMSDh\"], axis=0).max().mean())\n",
    "print(lsp_2_shibuya.filter(like=\"RMSDh\").div(small_rmsdhk_2[\"RMSDh\"], axis=0).min().mean())"
   ]
  },
  {
   "cell_type": "code",
   "execution_count": 38,
   "id": "e401df2c",
   "metadata": {},
   "outputs": [
    {
     "name": "stdout",
     "output_type": "stream",
     "text": [
      "1.2473578606807205\n",
      "2.5804512865545437\n",
      "1.0004908617316708\n"
     ]
    }
   ],
   "source": [
    "print(lsp_3_shibuya.filter(like=\"RMSDh\").div(small_rmsdhk_3[\"RMSDh\"], axis=0).mean().mean())\n",
    "print(lsp_3_shibuya.filter(like=\"RMSDh\").div(small_rmsdhk_3[\"RMSDh\"], axis=0).max().mean())\n",
    "print(lsp_3_shibuya.filter(like=\"RMSDh\").div(small_rmsdhk_3[\"RMSDh\"], axis=0).min().mean())"
   ]
  },
  {
   "cell_type": "code",
   "execution_count": 39,
   "id": "c1f3b463",
   "metadata": {},
   "outputs": [
    {
     "name": "stdout",
     "output_type": "stream",
     "text": [
      "1.2635480959578842\n",
      "2.4810730012832973\n",
      "1.0019118249355572\n"
     ]
    }
   ],
   "source": [
    "print(lsp_4_shibuya.filter(like=\"RMSDh\").div(small_rmsdhk_4[\"RMSDh\"], axis=0).mean().mean())\n",
    "print(lsp_4_shibuya.filter(like=\"RMSDh\").div(small_rmsdhk_4[\"RMSDh\"], axis=0).max().mean())\n",
    "print(lsp_4_shibuya.filter(like=\"RMSDh\").div(small_rmsdhk_4[\"RMSDh\"], axis=0).min().mean())"
   ]
  },
  {
   "cell_type": "code",
   "execution_count": 40,
   "id": "f4e29527",
   "metadata": {},
   "outputs": [
    {
     "name": "stdout",
     "output_type": "stream",
     "text": [
      "0.1807476236\n",
      "0.2239792841\n",
      "0.25198025479999997\n"
     ]
    }
   ],
   "source": [
    "print(lsp_2.filter(like=\"computation_time\").sum().mean() / 1000)\n",
    "print(lsp_3.filter(like=\"computation_time\").sum().mean() / 1000)\n",
    "print(lsp_4.filter(like=\"computation_time\").sum().mean() / 1000)"
   ]
  },
  {
   "cell_type": "code",
   "execution_count": 41,
   "id": "f710ecdb",
   "metadata": {},
   "outputs": [
    {
     "name": "stdout",
     "output_type": "stream",
     "text": [
      "0.0015855054701754386\n",
      "0.001964730562280702\n",
      "0.002210353112280702\n"
     ]
    }
   ],
   "source": [
    "print(lsp_2.filter(like=\"computation_time\").mean().mean() / 1000)\n",
    "print(lsp_3.filter(like=\"computation_time\").mean().mean() / 1000)\n",
    "print(lsp_4.filter(like=\"computation_time\").mean().mean() / 1000)"
   ]
  },
  {
   "cell_type": "code",
   "execution_count": 42,
   "id": "f3076f03",
   "metadata": {},
   "outputs": [
    {
     "name": "stdout",
     "output_type": "stream",
     "text": [
      "1.0028276971672037\n",
      "1.2814119838972617\n",
      "1.0\n",
      "1.0006179400292339\n",
      "1.1467051467051468\n",
      "1.0\n"
     ]
    }
   ],
   "source": [
    "print((fast_rmsdhk_2_dyndom[\"RMSDh\"] / rmsdhk_2_dyndom[\"RMSDh\"]).mean())\n",
    "print((fast_rmsdhk_2_dyndom[\"RMSDh\"] / rmsdhk_2_dyndom[\"RMSDh\"]).max())\n",
    "print((fast_rmsdhk_2_dyndom[\"RMSDh\"] / rmsdhk_2_dyndom[\"RMSDh\"]).min())\n",
    "\n",
    "print((fast_rmsdhk_postpro_2_dyndom[\"RMSDh\"] / rmsdhk_2_dyndom[\"RMSDh\"]).mean())\n",
    "print((fast_rmsdhk_postpro_2_dyndom[\"RMSDh\"] / rmsdhk_2_dyndom[\"RMSDh\"]).max())\n",
    "print((fast_rmsdhk_postpro_2_dyndom[\"RMSDh\"] / rmsdhk_2_dyndom[\"RMSDh\"]).min())"
   ]
  },
  {
   "cell_type": "code",
   "execution_count": 43,
   "id": "e5364216",
   "metadata": {},
   "outputs": [
    {
     "name": "stdout",
     "output_type": "stream",
     "text": [
      "1.005423810144437\n",
      "1.5004537680198262\n",
      "1.0\n",
      "1.002534957383072\n",
      "1.5004537680198262\n",
      "1.0\n"
     ]
    }
   ],
   "source": [
    "print((fast_rmsdhk_3_dyndom[\"RMSDh\"] / rmsdhk_3_dyndom[\"RMSDh\"]).mean())\n",
    "print((fast_rmsdhk_3_dyndom[\"RMSDh\"] / rmsdhk_3_dyndom[\"RMSDh\"]).max())\n",
    "print((fast_rmsdhk_3_dyndom[\"RMSDh\"] / rmsdhk_3_dyndom[\"RMSDh\"]).min())\n",
    "\n",
    "print((fast_rmsdhk_postpro_3_dyndom[\"RMSDh\"] / rmsdhk_3_dyndom[\"RMSDh\"]).mean())\n",
    "print((fast_rmsdhk_postpro_3_dyndom[\"RMSDh\"] / rmsdhk_3_dyndom[\"RMSDh\"]).max())\n",
    "print((fast_rmsdhk_postpro_3_dyndom[\"RMSDh\"] / rmsdhk_3_dyndom[\"RMSDh\"]).min())"
   ]
  },
  {
   "cell_type": "code",
   "execution_count": 44,
   "id": "85ff48c5",
   "metadata": {},
   "outputs": [
    {
     "name": "stdout",
     "output_type": "stream",
     "text": [
      "1.0073172855258024\n",
      "1.4296859999405047\n",
      "1.0\n",
      "1.0042396411764754\n",
      "1.429191107072641\n",
      "1.0\n"
     ]
    }
   ],
   "source": [
    "print((fast_rmsdhk_4_dyndom[\"RMSDh\"] / rmsdhk_4_dyndom[\"RMSDh\"]).mean())\n",
    "print((fast_rmsdhk_4_dyndom[\"RMSDh\"] / rmsdhk_4_dyndom[\"RMSDh\"]).max())\n",
    "print((fast_rmsdhk_4_dyndom[\"RMSDh\"] / rmsdhk_4_dyndom[\"RMSDh\"]).min())\n",
    "\n",
    "print((fast_rmsdhk_postpro_4_dyndom[\"RMSDh\"] / rmsdhk_4_dyndom[\"RMSDh\"]).mean())\n",
    "print((fast_rmsdhk_postpro_4_dyndom[\"RMSDh\"] / rmsdhk_4_dyndom[\"RMSDh\"]).max())\n",
    "print((fast_rmsdhk_postpro_4_dyndom[\"RMSDh\"] / rmsdhk_4_dyndom[\"RMSDh\"]).min())"
   ]
  },
  {
   "cell_type": "code",
   "execution_count": 45,
   "id": "9d13ac7b",
   "metadata": {},
   "outputs": [
    {
     "name": "stdout",
     "output_type": "stream",
     "text": [
      "-----k=2-----\n",
      "737.89700668\n",
      "34.73771812\n",
      "39.65130507\n",
      "-----k=3-----\n",
      "1102.86172033\n",
      "51.82609435\n",
      "57.89014478\n",
      "-----k=4-----\n",
      "1471.46658396\n",
      "68.91126779\n",
      "76.16934831\n"
     ]
    }
   ],
   "source": [
    "print(f\"-----k=2-----\")\n",
    "print(rmsdhk_2_dyndom[\"exec_time (s)\"].sum())\n",
    "print(fast_rmsdhk_2_dyndom[\"exec_time (s)\"].sum())\n",
    "print(fast_rmsdhk_postpro_2_dyndom[\"exec_time (s)\"].sum())\n",
    "\n",
    "print(f\"-----k=3-----\")\n",
    "print(rmsdhk_3_dyndom[\"exec_time (s)\"].sum())\n",
    "print(fast_rmsdhk_3_dyndom[\"exec_time (s)\"].sum())\n",
    "print(fast_rmsdhk_postpro_3_dyndom[\"exec_time (s)\"].sum())\n",
    "\n",
    "print(f\"-----k=4-----\")\n",
    "print(rmsdhk_4_dyndom[\"exec_time (s)\"].sum())\n",
    "print(fast_rmsdhk_4_dyndom[\"exec_time (s)\"].sum())\n",
    "print(fast_rmsdhk_postpro_4_dyndom[\"exec_time (s)\"].sum())\n"
   ]
  },
  {
   "cell_type": "code",
   "execution_count": 46,
   "id": "f3234df4",
   "metadata": {},
   "outputs": [
    {
     "name": "stdout",
     "output_type": "stream",
     "text": [
      "-----k=2-----\n",
      "181.55778344000004\n",
      "9.1153577\n",
      "10.32448703\n",
      "-----k=3-----\n",
      "271.34558403\n",
      "13.57146638\n",
      "15.07073177\n",
      "-----k=4-----\n",
      "361.99327228000004\n",
      "18.02646362\n",
      "19.87684624\n"
     ]
    }
   ],
   "source": [
    "print(f\"-----k=2-----\")\n",
    "print(rmsdhk_2_dyndom[dyndom_monge[\"monge_rate_1\"] >= 0.9][\"exec_time (s)\"].sum())\n",
    "print(fast_rmsdhk_2_dyndom[dyndom_monge[\"monge_rate_1\"] >= 0.9][\"exec_time (s)\"].sum())\n",
    "print(fast_rmsdhk_postpro_2_dyndom[dyndom_monge[\"monge_rate_1\"] >= 0.9][\"exec_time (s)\"].sum())\n",
    "\n",
    "print(f\"-----k=3-----\")\n",
    "print(rmsdhk_3_dyndom[dyndom_monge[\"monge_rate_1\"] >= 0.9][\"exec_time (s)\"].sum())\n",
    "print(fast_rmsdhk_3_dyndom[dyndom_monge[\"monge_rate_1\"] >= 0.9][\"exec_time (s)\"].sum())\n",
    "print(fast_rmsdhk_postpro_3_dyndom[dyndom_monge[\"monge_rate_1\"] >= 0.9][\"exec_time (s)\"].sum())\n",
    "\n",
    "print(f\"-----k=4-----\")\n",
    "print(rmsdhk_4_dyndom[dyndom_monge[\"monge_rate_1\"] >= 0.9][\"exec_time (s)\"].sum())\n",
    "print(fast_rmsdhk_4_dyndom[dyndom_monge[\"monge_rate_1\"] >= 0.9][\"exec_time (s)\"].sum())\n",
    "print(fast_rmsdhk_postpro_4_dyndom[dyndom_monge[\"monge_rate_1\"] >= 0.9][\"exec_time (s)\"].sum())\n"
   ]
  },
  {
   "cell_type": "code",
   "execution_count": 47,
   "id": "a42103d2",
   "metadata": {},
   "outputs": [
    {
     "name": "stdout",
     "output_type": "stream",
     "text": [
      "-----k=2-----\n",
      "0.21111370167441865\n",
      "0.010599253139534885\n",
      "0.012005217476744186\n",
      "-----k=3-----\n",
      "0.3155181209651163\n",
      "0.015780774860465117\n",
      "0.017524106709302326\n",
      "-----k=4-----\n",
      "0.420922409627907\n",
      "0.020961004209302327\n",
      "0.023112611906976742\n"
     ]
    }
   ],
   "source": [
    "print(f\"-----k=2-----\")\n",
    "print(rmsdhk_2_dyndom[dyndom_monge[\"monge_rate_1\"] >= 0.9][\"exec_time (s)\"].mean())\n",
    "print(fast_rmsdhk_2_dyndom[dyndom_monge[\"monge_rate_1\"] >= 0.9][\"exec_time (s)\"].mean())\n",
    "print(fast_rmsdhk_postpro_2_dyndom[dyndom_monge[\"monge_rate_1\"] >= 0.9][\"exec_time (s)\"].mean())\n",
    "\n",
    "print(f\"-----k=3-----\")\n",
    "print(rmsdhk_3_dyndom[dyndom_monge[\"monge_rate_1\"] >= 0.9][\"exec_time (s)\"].mean())\n",
    "print(fast_rmsdhk_3_dyndom[dyndom_monge[\"monge_rate_1\"] >= 0.9][\"exec_time (s)\"].mean())\n",
    "print(fast_rmsdhk_postpro_3_dyndom[dyndom_monge[\"monge_rate_1\"] >= 0.9][\"exec_time (s)\"].mean())\n",
    "\n",
    "print(f\"-----k=4-----\")\n",
    "print(rmsdhk_4_dyndom[dyndom_monge[\"monge_rate_1\"] >= 0.9][\"exec_time (s)\"].mean())\n",
    "print(fast_rmsdhk_4_dyndom[dyndom_monge[\"monge_rate_1\"] >= 0.9][\"exec_time (s)\"].mean())\n",
    "print(fast_rmsdhk_postpro_4_dyndom[dyndom_monge[\"monge_rate_1\"] >= 0.9][\"exec_time (s)\"].mean())\n"
   ]
  },
  {
   "cell_type": "code",
   "execution_count": 48,
   "id": "25597a7d",
   "metadata": {},
   "outputs": [
    {
     "name": "stdout",
     "output_type": "stream",
     "text": [
      "-----k=2-----\n",
      "0.24020084852864584\n",
      "0.011307850950520832\n",
      "0.012907325869140625\n",
      "-----k=3-----\n",
      "0.3590044662532552\n",
      "0.01687047342122396\n",
      "0.018844448170572917\n",
      "-----k=4-----\n",
      "0.4789930286328125\n",
      "0.02243205331705729\n",
      "0.024794709736328125\n"
     ]
    }
   ],
   "source": [
    "print(f\"-----k=2-----\")\n",
    "print(rmsdhk_2_dyndom[\"exec_time (s)\"].mean())\n",
    "print(fast_rmsdhk_2_dyndom[\"exec_time (s)\"].mean())\n",
    "print(fast_rmsdhk_postpro_2_dyndom[\"exec_time (s)\"].mean())\n",
    "\n",
    "print(f\"-----k=3-----\")\n",
    "print(rmsdhk_3_dyndom[\"exec_time (s)\"].mean())\n",
    "print(fast_rmsdhk_3_dyndom[\"exec_time (s)\"].mean())\n",
    "print(fast_rmsdhk_postpro_3_dyndom[\"exec_time (s)\"].mean())\n",
    "\n",
    "print(f\"-----k=4-----\")\n",
    "print(rmsdhk_4_dyndom[\"exec_time (s)\"].mean())\n",
    "print(fast_rmsdhk_4_dyndom[\"exec_time (s)\"].mean())\n",
    "print(fast_rmsdhk_postpro_4_dyndom[\"exec_time (s)\"].mean())\n"
   ]
  },
  {
   "cell_type": "code",
   "execution_count": 49,
   "id": "f728c2c1",
   "metadata": {},
   "outputs": [
    {
     "name": "stdout",
     "output_type": "stream",
     "text": [
      "0       1.000000\n",
      "1       1.000000\n",
      "2       1.106356\n",
      "3       1.000000\n",
      "4       1.000000\n",
      "          ...   \n",
      "3067    1.000000\n",
      "3068    1.000000\n",
      "3069    1.003542\n",
      "3070    1.003255\n",
      "3071    1.000000\n",
      "Name: RMSDh, Length: 3072, dtype: float64\n"
     ]
    }
   ],
   "source": [
    "print((fast_rmsdhk_2_dyndom[\"RMSDh\"] / rmsdhk_2_dyndom[\"RMSDh\"]))"
   ]
  },
  {
   "cell_type": "code",
   "execution_count": 50,
   "id": "ed844905",
   "metadata": {},
   "outputs": [
    {
     "name": "stdout",
     "output_type": "stream",
     "text": [
      "1.0028276971672037\n",
      "1.005423810144437\n",
      "1.0073172855258024\n",
      "1.0\n",
      "1.0\n",
      "1.0\n",
      "1.2814119838972617\n",
      "1.5004537680198262\n",
      "1.4296859999405047\n"
     ]
    }
   ],
   "source": [
    "print((fast_rmsdhk_2_dyndom[\"RMSDh\"] / rmsdhk_2_dyndom[\"RMSDh\"]).mean())\n",
    "print((fast_rmsdhk_3_dyndom[\"RMSDh\"] / rmsdhk_3_dyndom[\"RMSDh\"]).mean())\n",
    "print((fast_rmsdhk_4_dyndom[\"RMSDh\"] / rmsdhk_4_dyndom[\"RMSDh\"]).mean())\n",
    "\n",
    "print((fast_rmsdhk_2_dyndom[\"RMSDh\"] / rmsdhk_2_dyndom[\"RMSDh\"]).min())\n",
    "print((fast_rmsdhk_3_dyndom[\"RMSDh\"] / rmsdhk_3_dyndom[\"RMSDh\"]).min())\n",
    "print((fast_rmsdhk_4_dyndom[\"RMSDh\"] / rmsdhk_4_dyndom[\"RMSDh\"]).min())\n",
    "\n",
    "print((fast_rmsdhk_2_dyndom[\"RMSDh\"] / rmsdhk_2_dyndom[\"RMSDh\"]).max())\n",
    "print((fast_rmsdhk_3_dyndom[\"RMSDh\"] / rmsdhk_3_dyndom[\"RMSDh\"]).max())\n",
    "print((fast_rmsdhk_4_dyndom[\"RMSDh\"] / rmsdhk_4_dyndom[\"RMSDh\"]).max())"
   ]
  },
  {
   "cell_type": "code",
   "execution_count": 51,
   "id": "88aeaee3",
   "metadata": {},
   "outputs": [
    {
     "name": "stdout",
     "output_type": "stream",
     "text": [
      "1.0006179400292339\n",
      "1.002534957383072\n",
      "1.0042396411764754\n",
      "1.0\n",
      "1.0\n",
      "1.0\n",
      "1.1467051467051468\n",
      "1.5004537680198262\n",
      "1.429191107072641\n"
     ]
    }
   ],
   "source": [
    "print((fast_rmsdhk_postpro_2_dyndom[\"RMSDh\"] / rmsdhk_2_dyndom[\"RMSDh\"]).mean())\n",
    "print((fast_rmsdhk_postpro_3_dyndom[\"RMSDh\"] / rmsdhk_3_dyndom[\"RMSDh\"]).mean())\n",
    "print((fast_rmsdhk_postpro_4_dyndom[\"RMSDh\"] / rmsdhk_4_dyndom[\"RMSDh\"]).mean())\n",
    "\n",
    "print((fast_rmsdhk_postpro_2_dyndom[\"RMSDh\"] / rmsdhk_2_dyndom[\"RMSDh\"]).min())\n",
    "print((fast_rmsdhk_postpro_3_dyndom[\"RMSDh\"] / rmsdhk_3_dyndom[\"RMSDh\"]).min())\n",
    "print((fast_rmsdhk_postpro_4_dyndom[\"RMSDh\"] / rmsdhk_4_dyndom[\"RMSDh\"]).min())\n",
    "\n",
    "print((fast_rmsdhk_postpro_2_dyndom[\"RMSDh\"] / rmsdhk_2_dyndom[\"RMSDh\"]).max())\n",
    "print((fast_rmsdhk_postpro_3_dyndom[\"RMSDh\"] / rmsdhk_3_dyndom[\"RMSDh\"]).max())\n",
    "print((fast_rmsdhk_postpro_4_dyndom[\"RMSDh\"] / rmsdhk_4_dyndom[\"RMSDh\"]).max())"
   ]
  },
  {
   "cell_type": "code",
   "execution_count": 52,
   "id": "54dd3bfe",
   "metadata": {},
   "outputs": [
    {
     "name": "stdout",
     "output_type": "stream",
     "text": [
      "1.1449849861061254\n",
      "1.0\n",
      "3.4231361196797687\n"
     ]
    }
   ],
   "source": [
    "print(lsp_2.filter(like=\"RMSDh\").div(rmsdhk_2[\"RMSDh\"], axis=0).mean().mean())\n",
    "print(lsp_2.filter(like=\"RMSDh\").div(rmsdhk_2[\"RMSDh\"], axis=0).min().mean())\n",
    "print(lsp_2.filter(like=\"RMSDh\").div(rmsdhk_2[\"RMSDh\"], axis=0).max().mean())"
   ]
  },
  {
   "cell_type": "code",
   "execution_count": 53,
   "id": "a7dc2ee4",
   "metadata": {},
   "outputs": [
    {
     "name": "stdout",
     "output_type": "stream",
     "text": [
      "1.212501981421784\n",
      "1.0\n",
      "4.154659182559665\n"
     ]
    }
   ],
   "source": [
    "print(lsp_3.filter(like=\"RMSDh\").div(rmsdhk_3[\"RMSDh\"], axis=0).mean().mean())\n",
    "print(lsp_3.filter(like=\"RMSDh\").div(rmsdhk_3[\"RMSDh\"], axis=0).min().mean())\n",
    "print(lsp_3.filter(like=\"RMSDh\").div(rmsdhk_3[\"RMSDh\"], axis=0).max().mean())"
   ]
  },
  {
   "cell_type": "code",
   "execution_count": 54,
   "id": "d1bdb5ea",
   "metadata": {},
   "outputs": [
    {
     "name": "stdout",
     "output_type": "stream",
     "text": [
      "1.229180319802953\n",
      "1.0\n",
      "3.629261395696524\n"
     ]
    }
   ],
   "source": [
    "print(lsp_4.filter(like=\"RMSDh\").div(rmsdhk_4[\"RMSDh\"], axis=0).mean().mean())\n",
    "print(lsp_4.filter(like=\"RMSDh\").div(rmsdhk_4[\"RMSDh\"], axis=0).min().mean())\n",
    "print(lsp_4.filter(like=\"RMSDh\").div(rmsdhk_4[\"RMSDh\"], axis=0).max().mean())"
   ]
  },
  {
   "cell_type": "code",
   "execution_count": 55,
   "id": "ff29065e",
   "metadata": {},
   "outputs": [
    {
     "name": "stdout",
     "output_type": "stream",
     "text": [
      "-----2-----\n",
      "20.719913192999996\n",
      "0.18175362449999996\n",
      "1.1060774\n",
      "0.009702433333333333\n",
      "1.2441854520000002\n",
      "0.010913907473684212\n",
      "-----3-----\n",
      "31.314613214999994\n",
      "0.27468958960526313\n",
      "1.6185436139999996\n",
      "0.014197750999999996\n",
      "1.8089934140000001\n",
      "0.015868363280701757\n",
      "-----4-----\n",
      "41.169319492999996\n",
      "0.36113438151754385\n",
      "2.1536889190000004\n",
      "0.018892008061403513\n",
      "2.3857102\n",
      "0.020927282456140353\n"
     ]
    }
   ],
   "source": [
    "print(\"-----2-----\")\n",
    "print(rmsdhk_2[\"exec_time (s)\"].sum())\n",
    "print(rmsdhk_2[\"exec_time (s)\"].mean())\n",
    "print(fast_rmsdhk_2[\"exec_time (s)\"].sum())\n",
    "print(fast_rmsdhk_2[\"exec_time (s)\"].mean())\n",
    "print(fast_rmsdhk_postpro_2[\"exec_time (s)\"].sum())\n",
    "print(fast_rmsdhk_postpro_2[\"exec_time (s)\"].mean())\n",
    "\n",
    "print(\"-----3-----\")\n",
    "print(rmsdhk_3[\"exec_time (s)\"].sum())\n",
    "print(rmsdhk_3[\"exec_time (s)\"].mean())\n",
    "print(fast_rmsdhk_3[\"exec_time (s)\"].sum())\n",
    "print(fast_rmsdhk_3[\"exec_time (s)\"].mean())\n",
    "print(fast_rmsdhk_postpro_3[\"exec_time (s)\"].sum())\n",
    "print(fast_rmsdhk_postpro_3[\"exec_time (s)\"].mean())\n",
    "\n",
    "print(\"-----4-----\")\n",
    "print(rmsdhk_4[\"exec_time (s)\"].sum())\n",
    "print(rmsdhk_4[\"exec_time (s)\"].mean())\n",
    "print(fast_rmsdhk_4[\"exec_time (s)\"].sum())\n",
    "print(fast_rmsdhk_4[\"exec_time (s)\"].mean())\n",
    "print(fast_rmsdhk_postpro_4[\"exec_time (s)\"].sum())\n",
    "print(fast_rmsdhk_postpro_4[\"exec_time (s)\"].mean())\n"
   ]
  },
  {
   "cell_type": "code",
   "execution_count": 56,
   "id": "1e6a5d64",
   "metadata": {},
   "outputs": [
    {
     "name": "stdout",
     "output_type": "stream",
     "text": [
      "-----2-----\n",
      "0.001211474140350879\n",
      "-----3-----\n",
      "0.0016706122807017593\n",
      "-----4-----\n",
      "0.0020352743947368397\n"
     ]
    }
   ],
   "source": [
    "print(\"-----2-----\")\n",
    "print((fast_rmsdhk_postpro_2[\"exec_time (s)\"].sum() - fast_rmsdhk_2[\"exec_time (s)\"].sum()) / len(fast_rmsdhk_2))\n",
    "\n",
    "print(\"-----3-----\")\n",
    "print((fast_rmsdhk_postpro_3[\"exec_time (s)\"].sum() - fast_rmsdhk_3[\"exec_time (s)\"].sum()) / len(fast_rmsdhk_3))\n",
    "\n",
    "print(\"-----4-----\")\n",
    "print((fast_rmsdhk_postpro_4[\"exec_time (s)\"].sum() - fast_rmsdhk_4[\"exec_time (s)\"].sum()) / len(fast_rmsdhk_4))\n"
   ]
  },
  {
   "cell_type": "code",
   "execution_count": 57,
   "id": "0c05eb55",
   "metadata": {},
   "outputs": [
    {
     "name": "stdout",
     "output_type": "stream",
     "text": [
      "0.0020352743947368397\n"
     ]
    }
   ],
   "source": [
    "print((fast_rmsdhk_postpro_4[\"exec_time (s)\"].sum() - fast_rmsdhk_4[\"exec_time (s)\"].sum()) / len(fast_rmsdhk_4))"
   ]
  },
  {
   "cell_type": "code",
   "execution_count": 58,
   "id": "78914d2a",
   "metadata": {},
   "outputs": [],
   "source": [
    "def calc_ans(detect_method_list, d=0):\n",
    "    ans_list = []\n",
    "    for i in range(len(expert_annotated_list)):\n",
    "        exp = expert_annotated_list[i]\n",
    "        detect = detect_method_list[i]\n",
    "        true_hinge_indices = exp.split(\" : \")\n",
    "        detected_hinge_indices = detect.split(\" : \")\n",
    "        TP = 0\n",
    "        FP = 0\n",
    "        FN = 0\n",
    "        if detected_hinge_indices != ['']:\n",
    "            detected_ranges = [(int(label) - d, int(label) + d) for label in detected_hinge_indices]\n",
    "        else:\n",
    "            detected_ranges = []\n",
    "        for true in true_hinge_indices:\n",
    "            if any(lower <= int(true) <= upper for (lower, upper) in detected_ranges):\n",
    "                TP += 1\n",
    "            else:\n",
    "                FN += 1\n",
    "        for (lower, upper) in detected_ranges:\n",
    "            if not any(lower <= int(true) <= upper for true in true_hinge_indices):\n",
    "                FP += 1\n",
    "        precision = TP / (TP + FP) if (TP + FP) != 0 else 0\n",
    "        recall = TP / (TP + FN) if (TP + FN) != 0 else 0\n",
    "        f_measure = (2 * precision * recall) / (precision + recall) if (precision + recall) != 0 else 0\n",
    "        ans_list.append({\"precision\": precision, \"recall\": recall, \"f_measure\": f_measure})\n",
    "    return ans_list"
   ]
  },
  {
   "cell_type": "code",
   "execution_count": 59,
   "id": "80470fa9",
   "metadata": {},
   "outputs": [],
   "source": [
    "def calc_ans_par(exp, detect, d=0):\n",
    "    true_hinge_indices = exp.split(\" : \")\n",
    "    detected_hinge_indices = detect.split(\" : \")\n",
    "    TP = 0\n",
    "    FP = 0\n",
    "    FN = 0\n",
    "    if detected_hinge_indices != ['']:\n",
    "        detected_ranges = [(int(label) - d, int(label) + d) for label in detected_hinge_indices]\n",
    "    else:\n",
    "        detected_ranges = []\n",
    "    for true in true_hinge_indices:\n",
    "        if any(lower <= int(true) <= upper for (lower, upper) in detected_ranges):\n",
    "            TP += 1\n",
    "        else:\n",
    "            FN += 1\n",
    "    for (lower, upper) in detected_ranges:\n",
    "        if not any(lower <= int(true) <= upper for true in true_hinge_indices):\n",
    "            FP += 1\n",
    "    return {\"TP\": TP, \"FP\": FP, \"FN\": FN}"
   ]
  },
  {
   "cell_type": "code",
   "execution_count": 60,
   "id": "1d868cc7",
   "metadata": {},
   "outputs": [],
   "source": [
    "def calc_acc_df(df, heuristic_df):\n",
    "    f_measure_dict = {}\n",
    "    for d in [3]:\n",
    "        acc = []\n",
    "        for i in range(len(df)):\n",
    "            acc.append(calc_ans_par(df.loc[i][\"hinge_index\"], heuristic_df.loc[i][\"hinge_index\"], d))\n",
    "        acc_df = pd.DataFrame(acc)\n",
    "        TP = acc_df[\"TP\"].sum()\n",
    "        FP = acc_df[\"FP\"].sum()\n",
    "        FN = acc_df[\"FN\"].sum()\n",
    "        precision = TP / (TP + FP) if (TP + FP) != 0 else 0\n",
    "        recall = TP / (TP + FN) if (TP + FN) != 0 else 0\n",
    "        f_measure = (2 * precision * recall) / (precision + recall) if (precision + recall) != 0 else 0\n",
    "        f_measure_dict[f\"F-measure_distance_{d}\"] = f_measure\n",
    "        f_measure_dict[f\"Precision_distance_{d}\"] = precision\n",
    "        f_measure_dict[f\"Recall_distance_{d}\"] = recall\n",
    "    return f_measure_dict"
   ]
  },
  {
   "cell_type": "code",
   "execution_count": 63,
   "id": "75e0716b",
   "metadata": {},
   "outputs": [],
   "source": [
    "acc_dict_2 = calc_acc_df(rmsdhk_2, fast_rmsdhk_2)\n",
    "acc_dict_3 = calc_acc_df(rmsdhk_3, fast_rmsdhk_3)\n",
    "acc_dict_4 = calc_acc_df(rmsdhk_4, fast_rmsdhk_4)\n",
    "\n",
    "acc_dict_2_postpro = calc_acc_df(rmsdhk_2, fast_rmsdhk_postpro_2)\n",
    "acc_dict_3_postpro = calc_acc_df(rmsdhk_3, fast_rmsdhk_postpro_3)\n",
    "acc_dict_4_postpro = calc_acc_df(rmsdhk_4, fast_rmsdhk_postpro_4)"
   ]
  },
  {
   "cell_type": "code",
   "execution_count": 64,
   "id": "9fd9ecfa",
   "metadata": {},
   "outputs": [],
   "source": [
    "acc_dict_2_dyndom = calc_acc_df(rmsdhk_2_dyndom, fast_rmsdhk_2_dyndom)\n",
    "acc_dict_3_dyndom = calc_acc_df(rmsdhk_3_dyndom, fast_rmsdhk_3_dyndom)\n",
    "acc_dict_4_dyndom = calc_acc_df(rmsdhk_4_dyndom, fast_rmsdhk_4_dyndom)\n",
    "\n",
    "acc_dict_2_postpro_dyndom = calc_acc_df(rmsdhk_2_dyndom, fast_rmsdhk_postpro_2_dyndom)\n",
    "acc_dict_3_postpro_dyndom = calc_acc_df(rmsdhk_3_dyndom, fast_rmsdhk_postpro_3_dyndom)\n",
    "acc_dict_4_postpro_dyndom = calc_acc_df(rmsdhk_4_dyndom, fast_rmsdhk_postpro_4_dyndom)"
   ]
  },
  {
   "cell_type": "code",
   "execution_count": 65,
   "id": "322a42de",
   "metadata": {},
   "outputs": [],
   "source": [
    "selected_acc_dict_2_dyndom = calc_acc_df(rmsdhk_2_dyndom[dyndom_monge[\"monge_rate_1\"]>=0.9].reset_index(), fast_rmsdhk_2_dyndom[dyndom_monge[\"monge_rate_1\"]>=0.9].reset_index())\n",
    "selected_acc_dict_3_dyndom = calc_acc_df(rmsdhk_3_dyndom[dyndom_monge[\"monge_rate_1\"]>=0.9].reset_index(), fast_rmsdhk_3_dyndom[dyndom_monge[\"monge_rate_1\"]>=0.9].reset_index())\n",
    "selected_acc_dict_4_dyndom = calc_acc_df(rmsdhk_4_dyndom[dyndom_monge[\"monge_rate_1\"]>=0.9].reset_index(), fast_rmsdhk_4_dyndom[dyndom_monge[\"monge_rate_1\"]>=0.9].reset_index())\n",
    "\n",
    "selected_acc_dict_2_postpro_dyndom = calc_acc_df(rmsdhk_2_dyndom[dyndom_monge[\"monge_rate_1\"]>=0.9].reset_index(), fast_rmsdhk_postpro_2_dyndom[dyndom_monge[\"monge_rate_1\"]>=0.9].reset_index())\n",
    "selected_acc_dict_3_postpro_dyndom = calc_acc_df(rmsdhk_3_dyndom[dyndom_monge[\"monge_rate_1\"]>=0.9].reset_index(), fast_rmsdhk_postpro_3_dyndom[dyndom_monge[\"monge_rate_1\"]>=0.9].reset_index())\n",
    "selected_acc_dict_4_postpro_dyndom = calc_acc_df(rmsdhk_4_dyndom[dyndom_monge[\"monge_rate_1\"]>=0.9].reset_index(), fast_rmsdhk_postpro_4_dyndom[dyndom_monge[\"monge_rate_1\"]>=0.9].reset_index())"
   ]
  },
  {
   "cell_type": "code",
   "execution_count": 66,
   "id": "6fcd7bc0",
   "metadata": {},
   "outputs": [
    {
     "name": "stdout",
     "output_type": "stream",
     "text": [
      "0.940389648153533\n",
      "0.9406631762652705\n",
      "0.9401162790697675\n",
      "0.9874963652224484\n",
      "0.987783595113438\n",
      "0.9872093023255814\n"
     ]
    }
   ],
   "source": [
    "print(selected_acc_dict_2_dyndom[\"F-measure_distance_3\"])\n",
    "print(selected_acc_dict_2_dyndom[\"Precision_distance_3\"])\n",
    "print(selected_acc_dict_2_dyndom[\"Recall_distance_3\"])\n",
    "print(selected_acc_dict_2_postpro_dyndom[\"F-measure_distance_3\"])\n",
    "print(selected_acc_dict_2_postpro_dyndom[\"Precision_distance_3\"])\n",
    "print(selected_acc_dict_2_postpro_dyndom[\"Recall_distance_3\"])"
   ]
  },
  {
   "cell_type": "code",
   "execution_count": 67,
   "id": "7047c4f1",
   "metadata": {},
   "outputs": [
    {
     "name": "stdout",
     "output_type": "stream",
     "text": [
      "0.9251937984496124\n",
      "0.9251937984496124\n",
      "0.9251937984496124\n",
      "0.9567745687148671\n",
      "0.9569600620395502\n",
      "0.9565891472868217\n"
     ]
    }
   ],
   "source": [
    "print(selected_acc_dict_3_dyndom[\"F-measure_distance_3\"])\n",
    "print(selected_acc_dict_3_dyndom[\"Precision_distance_3\"])\n",
    "print(selected_acc_dict_3_dyndom[\"Recall_distance_3\"])\n",
    "print(selected_acc_dict_3_postpro_dyndom[\"F-measure_distance_3\"])\n",
    "print(selected_acc_dict_3_postpro_dyndom[\"Precision_distance_3\"])\n",
    "print(selected_acc_dict_3_postpro_dyndom[\"Recall_distance_3\"])"
   ]
  },
  {
   "cell_type": "code",
   "execution_count": 165,
   "id": "42226bee",
   "metadata": {},
   "outputs": [
    {
     "name": "stdout",
     "output_type": "stream",
     "text": [
      "0.9215572341661824\n",
      "0.9210220673635308\n",
      "0.922093023255814\n",
      "0.9526300494042429\n",
      "0.9523532829750145\n",
      "0.952906976744186\n"
     ]
    }
   ],
   "source": [
    "print(selected_acc_dict_4_dyndom[\"F-measure_distance_3\"])\n",
    "print(selected_acc_dict_4_dyndom[\"Precision_distance_3\"])\n",
    "print(selected_acc_dict_4_dyndom[\"Recall_distance_3\"])\n",
    "print(selected_acc_dict_4_postpro_dyndom[\"F-measure_distance_3\"])\n",
    "print(selected_acc_dict_4_postpro_dyndom[\"Precision_distance_3\"])\n",
    "print(selected_acc_dict_4_postpro_dyndom[\"Recall_distance_3\"])"
   ]
  },
  {
   "cell_type": "code",
   "execution_count": 68,
   "id": "26dc68b9",
   "metadata": {},
   "outputs": [
    {
     "name": "stdout",
     "output_type": "stream",
     "text": [
      "0.9248046875\n",
      "0.9248046875\n",
      "0.9248046875\n",
      "0.98193359375\n",
      "0.98193359375\n",
      "0.98193359375\n"
     ]
    }
   ],
   "source": [
    "print(acc_dict_2_dyndom[\"F-measure_distance_3\"])\n",
    "print(acc_dict_2_dyndom[\"Precision_distance_3\"])\n",
    "print(acc_dict_2_dyndom[\"Recall_distance_3\"])\n",
    "print(acc_dict_2_postpro_dyndom[\"F-measure_distance_3\"])\n",
    "print(acc_dict_2_postpro_dyndom[\"Precision_distance_3\"])\n",
    "print(acc_dict_2_postpro_dyndom[\"Recall_distance_3\"])"
   ]
  },
  {
   "cell_type": "code",
   "execution_count": 69,
   "id": "af9980a2",
   "metadata": {},
   "outputs": [
    {
     "name": "stdout",
     "output_type": "stream",
     "text": [
      "0.9181216787767053\n",
      "0.9176241057879905\n",
      "0.9186197916666666\n",
      "0.9612756264236902\n",
      "0.9609629147690306\n",
      "0.9615885416666666\n"
     ]
    }
   ],
   "source": [
    "print(acc_dict_3_dyndom[\"F-measure_distance_3\"])\n",
    "print(acc_dict_3_dyndom[\"Precision_distance_3\"])\n",
    "print(acc_dict_3_dyndom[\"Recall_distance_3\"])\n",
    "print(acc_dict_3_postpro_dyndom[\"F-measure_distance_3\"])\n",
    "print(acc_dict_3_postpro_dyndom[\"Precision_distance_3\"])\n",
    "print(acc_dict_3_postpro_dyndom[\"Recall_distance_3\"])"
   ]
  },
  {
   "cell_type": "code",
   "execution_count": 70,
   "id": "b8320d5a",
   "metadata": {},
   "outputs": [
    {
     "name": "stdout",
     "output_type": "stream",
     "text": [
      "0.9129639416236432\n",
      "0.9121111201364633\n",
      "0.913818359375\n",
      "0.9510290409175954\n",
      "0.950642380874939\n",
      "0.951416015625\n"
     ]
    }
   ],
   "source": [
    "print(acc_dict_4_dyndom[\"F-measure_distance_3\"])\n",
    "print(acc_dict_4_dyndom[\"Precision_distance_3\"])\n",
    "print(acc_dict_4_dyndom[\"Recall_distance_3\"])\n",
    "print(acc_dict_4_postpro_dyndom[\"F-measure_distance_3\"])\n",
    "print(acc_dict_4_postpro_dyndom[\"Precision_distance_3\"])\n",
    "print(acc_dict_4_postpro_dyndom[\"Recall_distance_3\"])"
   ]
  },
  {
   "cell_type": "code",
   "execution_count": 72,
   "id": "1058961a",
   "metadata": {},
   "outputs": [],
   "source": [
    "acc_df_2 = calc_acc_df(rmsdhk_2, fast_rmsdhk_2)\n",
    "acc_df_3 = calc_acc_df(rmsdhk_3, fast_rmsdhk_3)\n",
    "acc_df_4 = calc_acc_df(rmsdhk_4, fast_rmsdhk_4)\n",
    "\n",
    "acc_df_2_postpro = calc_acc_df(rmsdhk_2, fast_rmsdhk_postpro_2)\n",
    "acc_df_3_postpro = calc_acc_df(rmsdhk_3, fast_rmsdhk_postpro_3)\n",
    "acc_df_4_postpro = calc_acc_df(rmsdhk_4, fast_rmsdhk_postpro_4)"
   ]
  },
  {
   "cell_type": "code",
   "execution_count": 75,
   "id": "de430c72",
   "metadata": {},
   "outputs": [
    {
     "name": "stdout",
     "output_type": "stream",
     "text": [
      "0.7723063286464632\n",
      "0.7725748697916667\n",
      "0.7720381505560884\n"
     ]
    }
   ],
   "source": [
    "ans_f_measure = 0\n",
    "ans_precision = 0\n",
    "ans_recall = 0\n",
    "for i in range(100):\n",
    "    acc_dict_2_lsp = calc_acc_df(rmsdhk_2_dyndom, lsp_2_dyndom[f\"{i}\"].reset_index().rename(columns={f\"{i}\": \"hinge_index\"}))\n",
    "    ans_f_measure += acc_dict_2_lsp[\"F-measure_distance_3\"]\n",
    "    ans_recall += acc_dict_2_lsp[\"Recall_distance_3\"]\n",
    "    ans_precision += acc_dict_2_lsp[\"Precision_distance_3\"]\n",
    "print(ans_f_measure / 100)\n",
    "print(ans_recall / 100)\n",
    "print(ans_precision / 100)"
   ]
  },
  {
   "cell_type": "code",
   "execution_count": 76,
   "id": "cfb3d05f",
   "metadata": {},
   "outputs": [
    {
     "name": "stdout",
     "output_type": "stream",
     "text": [
      "0.6905027394830157\n",
      "0.6910004340277779\n",
      "0.6900060561925764\n"
     ]
    }
   ],
   "source": [
    "ans_f_measure = 0\n",
    "ans_precision = 0\n",
    "ans_recall = 0\n",
    "for i in range(100):\n",
    "    acc_dict_3_lsp = calc_acc_df(rmsdhk_3_dyndom, lsp_3_dyndom[f\"{i}\"].reset_index().rename(columns={f\"{i}\": \"hinge_index\"}))\n",
    "    ans_f_measure += acc_dict_3_lsp[\"F-measure_distance_3\"]\n",
    "    ans_recall += acc_dict_3_lsp[\"Recall_distance_3\"]\n",
    "    ans_precision += acc_dict_3_lsp[\"Precision_distance_3\"]\n",
    "print(ans_f_measure / 100)\n",
    "print(ans_recall / 100)\n",
    "print(ans_precision / 100)"
   ]
  },
  {
   "cell_type": "code",
   "execution_count": 77,
   "id": "a56561f3",
   "metadata": {},
   "outputs": [
    {
     "name": "stdout",
     "output_type": "stream",
     "text": [
      "0.6612769822403834\n",
      "0.6639876302083336\n",
      "0.6585887922529733\n"
     ]
    }
   ],
   "source": [
    "ans_f_measure = 0\n",
    "ans_precision = 0\n",
    "ans_recall = 0\n",
    "for i in range(100):\n",
    "    acc_dict_4_lsp = calc_acc_df(rmsdhk_4_dyndom, lsp_4_dyndom[f\"{i}\"].reset_index().rename(columns={f\"{i}\": \"hinge_index\"}))\n",
    "    ans_f_measure += acc_dict_4_lsp[\"F-measure_distance_3\"]\n",
    "    ans_recall += acc_dict_4_lsp[\"Recall_distance_3\"]\n",
    "    ans_precision += acc_dict_4_lsp[\"Precision_distance_3\"]\n",
    "print(ans_f_measure / 100)\n",
    "print(ans_recall / 100)\n",
    "print(ans_precision / 100)"
   ]
  },
  {
   "cell_type": "code",
   "execution_count": 78,
   "id": "10f9daee",
   "metadata": {},
   "outputs": [
    {
     "name": "stdout",
     "output_type": "stream",
     "text": [
      "0.8106938712998975\n",
      "0.8120174418604651\n",
      "0.8093764495844928\n"
     ]
    }
   ],
   "source": [
    "ans_f_measure = 0\n",
    "ans_precision = 0\n",
    "ans_recall = 0\n",
    "for i in range(100):\n",
    "    acc_dict_2_lsp = calc_acc_df(rmsdhk_2_dyndom[dyndom_monge[\"monge_rate_1\"] >= 0.9].reset_index(), lsp_2_dyndom[dyndom_monge[\"monge_rate_1\"] >= 0.9].reset_index()[f\"{i}\"].reset_index().rename(columns={f\"{i}\": \"hinge_index\"}))\n",
    "    ans_f_measure += acc_dict_2_lsp[\"F-measure_distance_3\"]\n",
    "    ans_recall += acc_dict_2_lsp[\"Recall_distance_3\"]\n",
    "    ans_precision += acc_dict_2_lsp[\"Precision_distance_3\"]\n",
    "print(ans_f_measure / 100)\n",
    "print(ans_recall / 100)\n",
    "print(ans_precision / 100)"
   ]
  },
  {
   "cell_type": "code",
   "execution_count": 79,
   "id": "273924ef",
   "metadata": {},
   "outputs": [
    {
     "name": "stdout",
     "output_type": "stream",
     "text": [
      "0.6956439830815117\n",
      "0.6977209302325582\n",
      "0.6935816125596077\n"
     ]
    }
   ],
   "source": [
    "ans_f_measure = 0\n",
    "ans_precision = 0\n",
    "ans_recall = 0\n",
    "for i in range(100):\n",
    "    acc_dict_3_lsp = calc_acc_df(rmsdhk_3_dyndom[dyndom_monge[\"monge_rate_1\"] >= 0.9].reset_index(), lsp_3_dyndom[dyndom_monge[\"monge_rate_1\"] >= 0.9].reset_index()[f\"{i}\"].reset_index().rename(columns={f\"{i}\": \"hinge_index\"}))\n",
    "    ans_f_measure += acc_dict_3_lsp[\"F-measure_distance_3\"]\n",
    "    ans_recall += acc_dict_3_lsp[\"Recall_distance_3\"]\n",
    "    ans_precision += acc_dict_3_lsp[\"Precision_distance_3\"]\n",
    "print(ans_f_measure / 100)\n",
    "print(ans_recall / 100)\n",
    "print(ans_precision / 100)"
   ]
  },
  {
   "cell_type": "code",
   "execution_count": 80,
   "id": "ca72f32e",
   "metadata": {},
   "outputs": [
    {
     "name": "stdout",
     "output_type": "stream",
     "text": [
      "0.6811767824042366\n",
      "0.6837238372093023\n",
      "0.6786510777562224\n"
     ]
    }
   ],
   "source": [
    "ans_f_measure = 0\n",
    "ans_precision = 0\n",
    "ans_recall = 0\n",
    "for i in range(100):\n",
    "    acc_dict_4_lsp = calc_acc_df(rmsdhk_4_dyndom[dyndom_monge[\"monge_rate_1\"] >= 0.9].reset_index(), lsp_4_dyndom[dyndom_monge[\"monge_rate_1\"] >= 0.9].reset_index()[f\"{i}\"].reset_index().rename(columns={f\"{i}\": \"hinge_index\"}))\n",
    "    ans_f_measure += acc_dict_4_lsp[\"F-measure_distance_3\"]\n",
    "    ans_recall += acc_dict_4_lsp[\"Recall_distance_3\"]\n",
    "    ans_precision += acc_dict_4_lsp[\"Precision_distance_3\"]\n",
    "print(ans_f_measure / 100)\n",
    "print(ans_recall / 100)\n",
    "print(ans_precision / 100)"
   ]
  },
  {
   "cell_type": "code",
   "execution_count": 81,
   "id": "9ca1ed10",
   "metadata": {},
   "outputs": [
    {
     "name": "stdout",
     "output_type": "stream",
     "text": [
      "0.7500274767931908\n",
      "0.7533771929824564\n",
      "0.7467160593834951\n"
     ]
    }
   ],
   "source": [
    "ans_f_measure = 0\n",
    "ans_precision = 0\n",
    "ans_recall = 0\n",
    "for i in range(100):\n",
    "    acc_dict_2_lsp = calc_acc_df(rmsdhk_2, lsp_2[f\"{i}\"].reset_index().rename(columns={f\"{i}\": \"hinge_index\"}))\n",
    "    ans_f_measure += acc_dict_2_lsp[\"F-measure_distance_3\"]\n",
    "    ans_recall += acc_dict_2_lsp[\"Recall_distance_3\"]\n",
    "    ans_precision += acc_dict_2_lsp[\"Precision_distance_3\"]\n",
    "print(ans_f_measure / 100)\n",
    "print(ans_recall / 100)\n",
    "print(ans_precision / 100)"
   ]
  }
 ],
 "metadata": {
  "kernelspec": {
   "display_name": "Python 3",
   "language": "python",
   "name": "python3"
  },
  "language_info": {
   "codemirror_mode": {
    "name": "ipython",
    "version": 3
   },
   "file_extension": ".py",
   "mimetype": "text/x-python",
   "name": "python",
   "nbconvert_exporter": "python",
   "pygments_lexer": "ipython3",
   "version": "3.9.1"
  }
 },
 "nbformat": 4,
 "nbformat_minor": 5
}
